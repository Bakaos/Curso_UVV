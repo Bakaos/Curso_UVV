{
  "nbformat": 4,
  "nbformat_minor": 0,
  "metadata": {
    "colab": {
      "provenance": [],
      "include_colab_link": true
    },
    "kernelspec": {
      "name": "python3",
      "display_name": "Python 3"
    }
  },
  "cells": [
    {
      "cell_type": "markdown",
      "metadata": {
        "id": "view-in-github",
        "colab_type": "text"
      },
      "source": [
        "<a href=\"https://colab.research.google.com/github/Bakaos/Curso_UVV/blob/main/Data_Manip_AOP2.ipynb\" target=\"_parent\"><img src=\"https://colab.research.google.com/assets/colab-badge.svg\" alt=\"Open In Colab\"/></a>"
      ]
    },
    {
      "cell_type": "markdown",
      "metadata": {
        "id": "G90zxY79qIXe"
      },
      "source": [
        "<?xml version=\"1.0\" encoding=\"UTF-8\"?>\n",
        "<html>\n",
        "  <body>\n",
        "    <header></header>\n",
        "        <CENTER>\n",
        "          <img src=\"https://www.uvv.br/wp-content/themes/uvvBr/templates/assets//img/logouvv.svg\" alt=\"UVV-LOGO\" style = width=\"100px\"; height=\"100px\">\n",
        "        </CENTER>\n",
        "        <CENTER><b>Programação para manipulação de dados</b></CENTER>\n",
        "        <CENTER><b>AOP2 - ATIVIDADE ONLINE PONTUADA 2</b></CENTER><br/>"
      ]
    },
    {
      "cell_type": "markdown",
      "source": [
        "**NOME COMPLETO: Hiran Alberto Hackbardt**"
      ],
      "metadata": {
        "id": "qDD2bNlhyUjX"
      }
    },
    {
      "cell_type": "markdown",
      "metadata": {
        "id": "yZfJjeQgqTo_"
      },
      "source": [
        "#ATIVIDADE ONLINE PONTUADA – AOP2(Discursiva)\n",
        "\n",
        "Usar as **Técnicas de programação Python:**\n",
        "\n",
        "### $\\Longrightarrow$**Vetorização**\n",
        "\n",
        "### $\\Longrightarrow$**Indexação Booleana**\n",
        "\n",
        "### $\\Longrightarrow$**Indexação Sofisticada**\n",
        "\n",
        "<FONT FACE=Arial COLOR=\"red\">**HÁ EXEMPLOS PRONTOS NOS NOTEBOOKS DAS LIÇÕES!!!!!**"
      ]
    },
    {
      "cell_type": "markdown",
      "metadata": {
        "id": "jCVMq4d1XQZM"
      },
      "source": [
        "**Link do Arquivo dataset.npy**: [Clique Aqui!](https://drive.google.com/file/d/1ovtUohGbbXR4KbWbueeKgn7cGTcAbdut/view?usp=sharing)"
      ]
    },
    {
      "cell_type": "markdown",
      "metadata": {
        "id": "fOrzULiQkEGJ"
      },
      "source": [
        "# Carregar o Dataset (arquivo)"
      ]
    },
    {
      "cell_type": "code",
      "metadata": {
        "id": "ykVY42T1OhX6"
      },
      "source": [
        "from google.colab import files\n",
        "import pandas\n",
        "import numpy"
      ],
      "execution_count": null,
      "outputs": []
    },
    {
      "cell_type": "code",
      "metadata": {
        "id": "zKIy1VznT-Gf",
        "outputId": "93e1d3e0-08e8-4fa8-8517-02d1edc70810",
        "colab": {
          "base_uri": "https://localhost:8080/",
          "height": 73
        }
      },
      "source": [
        "# Abrir o arquivo (AOP2.npy) do diretório salvo na sua máquina.\n",
        "file = files.upload()"
      ],
      "execution_count": null,
      "outputs": [
        {
          "output_type": "display_data",
          "data": {
            "text/plain": [
              "<IPython.core.display.HTML object>"
            ],
            "text/html": [
              "\n",
              "     <input type=\"file\" id=\"files-6d4e992f-22ca-4148-9666-c275d61a8b4d\" name=\"files[]\" multiple disabled\n",
              "        style=\"border:none\" />\n",
              "     <output id=\"result-6d4e992f-22ca-4148-9666-c275d61a8b4d\">\n",
              "      Upload widget is only available when the cell has been executed in the\n",
              "      current browser session. Please rerun this cell to enable.\n",
              "      </output>\n",
              "      <script>// Copyright 2017 Google LLC\n",
              "//\n",
              "// Licensed under the Apache License, Version 2.0 (the \"License\");\n",
              "// you may not use this file except in compliance with the License.\n",
              "// You may obtain a copy of the License at\n",
              "//\n",
              "//      http://www.apache.org/licenses/LICENSE-2.0\n",
              "//\n",
              "// Unless required by applicable law or agreed to in writing, software\n",
              "// distributed under the License is distributed on an \"AS IS\" BASIS,\n",
              "// WITHOUT WARRANTIES OR CONDITIONS OF ANY KIND, either express or implied.\n",
              "// See the License for the specific language governing permissions and\n",
              "// limitations under the License.\n",
              "\n",
              "/**\n",
              " * @fileoverview Helpers for google.colab Python module.\n",
              " */\n",
              "(function(scope) {\n",
              "function span(text, styleAttributes = {}) {\n",
              "  const element = document.createElement('span');\n",
              "  element.textContent = text;\n",
              "  for (const key of Object.keys(styleAttributes)) {\n",
              "    element.style[key] = styleAttributes[key];\n",
              "  }\n",
              "  return element;\n",
              "}\n",
              "\n",
              "// Max number of bytes which will be uploaded at a time.\n",
              "const MAX_PAYLOAD_SIZE = 100 * 1024;\n",
              "\n",
              "function _uploadFiles(inputId, outputId) {\n",
              "  const steps = uploadFilesStep(inputId, outputId);\n",
              "  const outputElement = document.getElementById(outputId);\n",
              "  // Cache steps on the outputElement to make it available for the next call\n",
              "  // to uploadFilesContinue from Python.\n",
              "  outputElement.steps = steps;\n",
              "\n",
              "  return _uploadFilesContinue(outputId);\n",
              "}\n",
              "\n",
              "// This is roughly an async generator (not supported in the browser yet),\n",
              "// where there are multiple asynchronous steps and the Python side is going\n",
              "// to poll for completion of each step.\n",
              "// This uses a Promise to block the python side on completion of each step,\n",
              "// then passes the result of the previous step as the input to the next step.\n",
              "function _uploadFilesContinue(outputId) {\n",
              "  const outputElement = document.getElementById(outputId);\n",
              "  const steps = outputElement.steps;\n",
              "\n",
              "  const next = steps.next(outputElement.lastPromiseValue);\n",
              "  return Promise.resolve(next.value.promise).then((value) => {\n",
              "    // Cache the last promise value to make it available to the next\n",
              "    // step of the generator.\n",
              "    outputElement.lastPromiseValue = value;\n",
              "    return next.value.response;\n",
              "  });\n",
              "}\n",
              "\n",
              "/**\n",
              " * Generator function which is called between each async step of the upload\n",
              " * process.\n",
              " * @param {string} inputId Element ID of the input file picker element.\n",
              " * @param {string} outputId Element ID of the output display.\n",
              " * @return {!Iterable<!Object>} Iterable of next steps.\n",
              " */\n",
              "function* uploadFilesStep(inputId, outputId) {\n",
              "  const inputElement = document.getElementById(inputId);\n",
              "  inputElement.disabled = false;\n",
              "\n",
              "  const outputElement = document.getElementById(outputId);\n",
              "  outputElement.innerHTML = '';\n",
              "\n",
              "  const pickedPromise = new Promise((resolve) => {\n",
              "    inputElement.addEventListener('change', (e) => {\n",
              "      resolve(e.target.files);\n",
              "    });\n",
              "  });\n",
              "\n",
              "  const cancel = document.createElement('button');\n",
              "  inputElement.parentElement.appendChild(cancel);\n",
              "  cancel.textContent = 'Cancel upload';\n",
              "  const cancelPromise = new Promise((resolve) => {\n",
              "    cancel.onclick = () => {\n",
              "      resolve(null);\n",
              "    };\n",
              "  });\n",
              "\n",
              "  // Wait for the user to pick the files.\n",
              "  const files = yield {\n",
              "    promise: Promise.race([pickedPromise, cancelPromise]),\n",
              "    response: {\n",
              "      action: 'starting',\n",
              "    }\n",
              "  };\n",
              "\n",
              "  cancel.remove();\n",
              "\n",
              "  // Disable the input element since further picks are not allowed.\n",
              "  inputElement.disabled = true;\n",
              "\n",
              "  if (!files) {\n",
              "    return {\n",
              "      response: {\n",
              "        action: 'complete',\n",
              "      }\n",
              "    };\n",
              "  }\n",
              "\n",
              "  for (const file of files) {\n",
              "    const li = document.createElement('li');\n",
              "    li.append(span(file.name, {fontWeight: 'bold'}));\n",
              "    li.append(span(\n",
              "        `(${file.type || 'n/a'}) - ${file.size} bytes, ` +\n",
              "        `last modified: ${\n",
              "            file.lastModifiedDate ? file.lastModifiedDate.toLocaleDateString() :\n",
              "                                    'n/a'} - `));\n",
              "    const percent = span('0% done');\n",
              "    li.appendChild(percent);\n",
              "\n",
              "    outputElement.appendChild(li);\n",
              "\n",
              "    const fileDataPromise = new Promise((resolve) => {\n",
              "      const reader = new FileReader();\n",
              "      reader.onload = (e) => {\n",
              "        resolve(e.target.result);\n",
              "      };\n",
              "      reader.readAsArrayBuffer(file);\n",
              "    });\n",
              "    // Wait for the data to be ready.\n",
              "    let fileData = yield {\n",
              "      promise: fileDataPromise,\n",
              "      response: {\n",
              "        action: 'continue',\n",
              "      }\n",
              "    };\n",
              "\n",
              "    // Use a chunked sending to avoid message size limits. See b/62115660.\n",
              "    let position = 0;\n",
              "    do {\n",
              "      const length = Math.min(fileData.byteLength - position, MAX_PAYLOAD_SIZE);\n",
              "      const chunk = new Uint8Array(fileData, position, length);\n",
              "      position += length;\n",
              "\n",
              "      const base64 = btoa(String.fromCharCode.apply(null, chunk));\n",
              "      yield {\n",
              "        response: {\n",
              "          action: 'append',\n",
              "          file: file.name,\n",
              "          data: base64,\n",
              "        },\n",
              "      };\n",
              "\n",
              "      let percentDone = fileData.byteLength === 0 ?\n",
              "          100 :\n",
              "          Math.round((position / fileData.byteLength) * 100);\n",
              "      percent.textContent = `${percentDone}% done`;\n",
              "\n",
              "    } while (position < fileData.byteLength);\n",
              "  }\n",
              "\n",
              "  // All done.\n",
              "  yield {\n",
              "    response: {\n",
              "      action: 'complete',\n",
              "    }\n",
              "  };\n",
              "}\n",
              "\n",
              "scope.google = scope.google || {};\n",
              "scope.google.colab = scope.google.colab || {};\n",
              "scope.google.colab._files = {\n",
              "  _uploadFiles,\n",
              "  _uploadFilesContinue,\n",
              "};\n",
              "})(self);\n",
              "</script> "
            ]
          },
          "metadata": {}
        },
        {
          "output_type": "stream",
          "name": "stdout",
          "text": [
            "Saving dataset.npy to dataset.npy\n"
          ]
        }
      ]
    },
    {
      "cell_type": "code",
      "metadata": {
        "colab": {
          "base_uri": "https://localhost:8080/"
        },
        "id": "etNmpaCvUMVR",
        "outputId": "b12daa13-f041-4370-f4e4-c970952b4379"
      },
      "source": [
        "dataset = numpy.load('dataset.npy')\n",
        "dataset"
      ],
      "execution_count": null,
      "outputs": [
        {
          "output_type": "execute_result",
          "data": {
            "text/plain": [
              "array([[3159.        , 3033.7393458 ],\n",
              "       [2530.        ,   25.        ],\n",
              "       [9301.        , 1608.58573348],\n",
              "       ...,\n",
              "       [2806.        , 1796.70178143],\n",
              "       [5319.        , 5170.1692601 ],\n",
              "       [2575.        , 4841.59095062]])"
            ]
          },
          "metadata": {},
          "execution_count": 6
        }
      ]
    },
    {
      "cell_type": "code",
      "source": [
        "type(dataset)"
      ],
      "metadata": {
        "colab": {
          "base_uri": "https://localhost:8080/"
        },
        "id": "fdBgj2v3zxhV",
        "outputId": "94e7dc91-7f6f-481e-bbdf-48ea91c9ff36"
      },
      "execution_count": null,
      "outputs": [
        {
          "output_type": "execute_result",
          "data": {
            "text/plain": [
              "numpy.ndarray"
            ]
          },
          "metadata": {},
          "execution_count": 7
        }
      ]
    },
    {
      "cell_type": "code",
      "metadata": {
        "colab": {
          "base_uri": "https://localhost:8080/",
          "height": 424
        },
        "id": "PDmzCWFTXpkk",
        "outputId": "a8241fde-4e97-4b26-c620-dd56580485ae"
      },
      "source": [
        "#SOMENTE PARA UMA MELHOR VISUALIZAÇÃO DOS DADOS\n",
        "df = pandas.DataFrame(dataset,\n",
        "                      columns=['CÓDIGO DO CLIENTE', 'TOTAL DE COMPRAS: R$'])\n",
        "df"
      ],
      "execution_count": null,
      "outputs": [
        {
          "output_type": "execute_result",
          "data": {
            "text/plain": [
              "      CÓDIGO DO CLIENTE  TOTAL DE COMPRAS: R$\n",
              "0                3159.0           3033.739346\n",
              "1                2530.0             25.000000\n",
              "2                9301.0           1608.585733\n",
              "3                2168.0           1018.298846\n",
              "4                2793.0           3399.205837\n",
              "...                 ...                   ...\n",
              "7995             8730.0           2815.080335\n",
              "7996             8374.0           2836.407819\n",
              "7997             2806.0           1796.701781\n",
              "7998             5319.0           5170.169260\n",
              "7999             2575.0           4841.590951\n",
              "\n",
              "[8000 rows x 2 columns]"
            ],
            "text/html": [
              "\n",
              "  <div id=\"df-dd2642b0-5dab-4a62-a247-4fc7a097afca\">\n",
              "    <div class=\"colab-df-container\">\n",
              "      <div>\n",
              "<style scoped>\n",
              "    .dataframe tbody tr th:only-of-type {\n",
              "        vertical-align: middle;\n",
              "    }\n",
              "\n",
              "    .dataframe tbody tr th {\n",
              "        vertical-align: top;\n",
              "    }\n",
              "\n",
              "    .dataframe thead th {\n",
              "        text-align: right;\n",
              "    }\n",
              "</style>\n",
              "<table border=\"1\" class=\"dataframe\">\n",
              "  <thead>\n",
              "    <tr style=\"text-align: right;\">\n",
              "      <th></th>\n",
              "      <th>CÓDIGO DO CLIENTE</th>\n",
              "      <th>TOTAL DE COMPRAS: R$</th>\n",
              "    </tr>\n",
              "  </thead>\n",
              "  <tbody>\n",
              "    <tr>\n",
              "      <th>0</th>\n",
              "      <td>3159.0</td>\n",
              "      <td>3033.739346</td>\n",
              "    </tr>\n",
              "    <tr>\n",
              "      <th>1</th>\n",
              "      <td>2530.0</td>\n",
              "      <td>25.000000</td>\n",
              "    </tr>\n",
              "    <tr>\n",
              "      <th>2</th>\n",
              "      <td>9301.0</td>\n",
              "      <td>1608.585733</td>\n",
              "    </tr>\n",
              "    <tr>\n",
              "      <th>3</th>\n",
              "      <td>2168.0</td>\n",
              "      <td>1018.298846</td>\n",
              "    </tr>\n",
              "    <tr>\n",
              "      <th>4</th>\n",
              "      <td>2793.0</td>\n",
              "      <td>3399.205837</td>\n",
              "    </tr>\n",
              "    <tr>\n",
              "      <th>...</th>\n",
              "      <td>...</td>\n",
              "      <td>...</td>\n",
              "    </tr>\n",
              "    <tr>\n",
              "      <th>7995</th>\n",
              "      <td>8730.0</td>\n",
              "      <td>2815.080335</td>\n",
              "    </tr>\n",
              "    <tr>\n",
              "      <th>7996</th>\n",
              "      <td>8374.0</td>\n",
              "      <td>2836.407819</td>\n",
              "    </tr>\n",
              "    <tr>\n",
              "      <th>7997</th>\n",
              "      <td>2806.0</td>\n",
              "      <td>1796.701781</td>\n",
              "    </tr>\n",
              "    <tr>\n",
              "      <th>7998</th>\n",
              "      <td>5319.0</td>\n",
              "      <td>5170.169260</td>\n",
              "    </tr>\n",
              "    <tr>\n",
              "      <th>7999</th>\n",
              "      <td>2575.0</td>\n",
              "      <td>4841.590951</td>\n",
              "    </tr>\n",
              "  </tbody>\n",
              "</table>\n",
              "<p>8000 rows × 2 columns</p>\n",
              "</div>\n",
              "      <button class=\"colab-df-convert\" onclick=\"convertToInteractive('df-dd2642b0-5dab-4a62-a247-4fc7a097afca')\"\n",
              "              title=\"Convert this dataframe to an interactive table.\"\n",
              "              style=\"display:none;\">\n",
              "        \n",
              "  <svg xmlns=\"http://www.w3.org/2000/svg\" height=\"24px\"viewBox=\"0 0 24 24\"\n",
              "       width=\"24px\">\n",
              "    <path d=\"M0 0h24v24H0V0z\" fill=\"none\"/>\n",
              "    <path d=\"M18.56 5.44l.94 2.06.94-2.06 2.06-.94-2.06-.94-.94-2.06-.94 2.06-2.06.94zm-11 1L8.5 8.5l.94-2.06 2.06-.94-2.06-.94L8.5 2.5l-.94 2.06-2.06.94zm10 10l.94 2.06.94-2.06 2.06-.94-2.06-.94-.94-2.06-.94 2.06-2.06.94z\"/><path d=\"M17.41 7.96l-1.37-1.37c-.4-.4-.92-.59-1.43-.59-.52 0-1.04.2-1.43.59L10.3 9.45l-7.72 7.72c-.78.78-.78 2.05 0 2.83L4 21.41c.39.39.9.59 1.41.59.51 0 1.02-.2 1.41-.59l7.78-7.78 2.81-2.81c.8-.78.8-2.07 0-2.86zM5.41 20L4 18.59l7.72-7.72 1.47 1.35L5.41 20z\"/>\n",
              "  </svg>\n",
              "      </button>\n",
              "      \n",
              "  <style>\n",
              "    .colab-df-container {\n",
              "      display:flex;\n",
              "      flex-wrap:wrap;\n",
              "      gap: 12px;\n",
              "    }\n",
              "\n",
              "    .colab-df-convert {\n",
              "      background-color: #E8F0FE;\n",
              "      border: none;\n",
              "      border-radius: 50%;\n",
              "      cursor: pointer;\n",
              "      display: none;\n",
              "      fill: #1967D2;\n",
              "      height: 32px;\n",
              "      padding: 0 0 0 0;\n",
              "      width: 32px;\n",
              "    }\n",
              "\n",
              "    .colab-df-convert:hover {\n",
              "      background-color: #E2EBFA;\n",
              "      box-shadow: 0px 1px 2px rgba(60, 64, 67, 0.3), 0px 1px 3px 1px rgba(60, 64, 67, 0.15);\n",
              "      fill: #174EA6;\n",
              "    }\n",
              "\n",
              "    [theme=dark] .colab-df-convert {\n",
              "      background-color: #3B4455;\n",
              "      fill: #D2E3FC;\n",
              "    }\n",
              "\n",
              "    [theme=dark] .colab-df-convert:hover {\n",
              "      background-color: #434B5C;\n",
              "      box-shadow: 0px 1px 3px 1px rgba(0, 0, 0, 0.15);\n",
              "      filter: drop-shadow(0px 1px 2px rgba(0, 0, 0, 0.3));\n",
              "      fill: #FFFFFF;\n",
              "    }\n",
              "  </style>\n",
              "\n",
              "      <script>\n",
              "        const buttonEl =\n",
              "          document.querySelector('#df-dd2642b0-5dab-4a62-a247-4fc7a097afca button.colab-df-convert');\n",
              "        buttonEl.style.display =\n",
              "          google.colab.kernel.accessAllowed ? 'block' : 'none';\n",
              "\n",
              "        async function convertToInteractive(key) {\n",
              "          const element = document.querySelector('#df-dd2642b0-5dab-4a62-a247-4fc7a097afca');\n",
              "          const dataTable =\n",
              "            await google.colab.kernel.invokeFunction('convertToInteractive',\n",
              "                                                     [key], {});\n",
              "          if (!dataTable) return;\n",
              "\n",
              "          const docLinkHtml = 'Like what you see? Visit the ' +\n",
              "            '<a target=\"_blank\" href=https://colab.research.google.com/notebooks/data_table.ipynb>data table notebook</a>'\n",
              "            + ' to learn more about interactive tables.';\n",
              "          element.innerHTML = '';\n",
              "          dataTable['output_type'] = 'display_data';\n",
              "          await google.colab.output.renderOutput(dataTable, element);\n",
              "          const docLink = document.createElement('div');\n",
              "          docLink.innerHTML = docLinkHtml;\n",
              "          element.appendChild(docLink);\n",
              "        }\n",
              "      </script>\n",
              "    </div>\n",
              "  </div>\n",
              "  "
            ]
          },
          "metadata": {},
          "execution_count": 8
        }
      ]
    },
    {
      "cell_type": "markdown",
      "metadata": {
        "id": "SVyl98N0pEUe"
      },
      "source": [
        "# **QUESTÃO 1:** (0.50 PONTOS POR LETRA)"
      ]
    },
    {
      "cell_type": "markdown",
      "metadata": {
        "id": "IDal4NFyWdcF"
      },
      "source": [
        "A partir do Dataset NumPy (dataset.npy) com o Código e o total de compras (2020) dos 8.000 clientes de um site online. Com isso, faça um Notebook Colab Google (AOP2.IPYNB) com as seguintes questões:\n"
      ]
    },
    {
      "cell_type": "markdown",
      "metadata": {
        "id": "1eej12wOpITF"
      },
      "source": [
        "a)\t**MANIPULAÇÃO 1**: Exibir na tela a quantidade de clientes, em porcentagem (%), com os seguintes cartões."
      ]
    },
    {
      "cell_type": "markdown",
      "metadata": {
        "id": "7C9hpmkEWn_9"
      },
      "source": [
        "<center>\n",
        "\n",
        "![image.png](data:image/png;base64,iVBORw0KGgoAAAANSUhEUgAAAb4AAADqCAYAAADd5SC8AAAgAElEQVR4Ae2d7ZEUTbKsVwVkQAV0QARkQAU0QAM0QAIk4PeaoQAaoMNce2aPc32CzKiqnu6eqmpPsz5ZlRmfnuEZ3cNre/7zlBEEgkAQCAJB4IEQ+M8D5ZpUg0AQCAJBIAg8pfGlCIJAEAgCQeChEEjje6jjTrJBIAgEgSCQxpcaCAJBIAgEgYdCII3voY47yQaBIBAEgsC08f3nP/95yicYpAZSA6mB1MBRa2DW4tvGN1PKehC4BIGvX7/+/TKF/u/fv5/ff/78eYm5i3QgcEYQCALnR6Dj+vQW6JTOD1kyvAUCs2+NNMB7jdT1vZCOnyDwtgh0XE/je9uzeRjv9dfdx48fn3/tff78+a4YdGS4ayBxFgSCwE0R6LiexndT6GN8bwh0ZNhbrIknCDwKAvpi/P3796ul3HH96o2Pf6/BYf3MvtmzXmXrO/82VMf79++f9fjlMBpu1/er7freAa/DqTqj+NznJc/+72HyN8vV7Vf8u38/E4ayP5qrfrU/0tHaCBf3OasJz4dnzkQ2fa6xVb3RO/pbx6Vn4TXocY/8j2prlJ9+KcueY+zYat9nlyWGkU+X1/MoXl/zmNbU6Ow83eaW563+sT2KAfxGw+1rv9bESHeEL2uj4We3lheyM/Kjs9M8qqURBpL3eelM19wJI3wUv+eO3yV/0luasTUb051OaWasJuDg6bke/OxykLzmWgzyNQPJ7Xq8stfN1Rf6bm+mW3Nzv1ueZ/a1Pipi2a9xjnKRrDCU3dkMQTTWFLns1It2pCu7s3kpRva3DGLbMpTLbB6dxZqLqJ7LSKfitySzhBU5OF9G9mZ5IjsaIxszWfRrfVZ/IzxHfrW21T96Szh5vSMPZopTfmvjY7/mvUYGe5fwQnEwjzBQvD7Xmrtn41McHjfPWq+z12nVWfuOzdmY7nRKI2NLxaTE6kW1RATpMTsp5G8GkNv1eN1e9+xFPCrgma7rud+1zzO7dX3mp8rxPhvCcKRT12RjRNIqq/d6cfuZSKZeMvLD7BeO5EdzrSm3UZ/RXztGvkZr9SxGMqM1v4iwUWVqbY8uKsd47XmKRyOfNQa911iE4YgbHpPkmNfWjussPW/xj62tGKHjdah4Rn5rLbuecKy1gr2tvFAMmreco8c4qifF6fPs7OV/7bli02veMZSNuiYfl8z4m43pTqdUjXmw6IlYkqsA+74fuuR9dts8a6iAZ4cys0t8fPwAZNN1VCC1qEZ6sslc41Hxr7mcPVds1eF+HAvJOc6jXCSneQlDxY5fPzPpM6tgkRnF5LKK32OreEnec0FP56F997vGt/SQXTMuPQvPDV/1oqt2hWutM52Nxyrb2qt5a32EqfvVOblPrbk/nvGhT93j3X3qmXk0PIZ6ntLFlzAZ2ahr0iNnPc/815qqZyN9YgBrDeeB1jwX6bkOctjRnjCsPiUnn5IbnaF813npHFU3ikf6jscWzKWv2blYzxUZj8/PRrgSn2TQ17rX5JIPxeIz+c7GdKdTqsb8cEcHi7xArvt+KNUu7wKEeBwI+ZwVyMwudviwX8fIlxe4+6+6iqfipkP0A6+6ep/Z0L7iGxUXMvKlGJTrDCP5m+3rzLAzI4YXZIeP2+LZz6fWRM1l5lt4EN8sB2GnWdjofTYLm5m8fNezQF6fmW3HQpjJnnSFj9tXTLOa1P4MC7dNbO5TcdSYFQe6ddSz97hGZ+b7+PZRbfne7LnquP2Rf3ARBtW/fLBfsXA9ybmvEUaKjT2dC7arX68Fnt1WlZXvOiOnvGrskh3Zdd8jvKS7NCtXYvB6dT1hCBYavqYcZvprfMiuZuKZjelOp+TGFDDygLt1+IGMdH3fQVExAd5ouJ7vE+csVteRLx3OEh7Iy7YXkfT9wD0ePb8WR+zIP3kwPB/s17GEofaxO9LHnhfkjHQ1ljV6ymV2vsrFc9RaN2N3aVx6FmuxwL+wVX7ukxhVTzpL7aPnl65jXm16niMd2cSf25Ge72O7DreJrMsrbtdxfPA5knH5peet/vHJR5gv2de+OIyuhvsmD8mI+9pn1rmgD0Y+0FVcrDtG6K4ZjvtMx+3qblONyf9sVk6zWEa2Xdb3HfuRf8Xm+jy7jZlM1SGf2ZjudEpubA3oLl+f/eBnwGvddVVMDqTvu11fl62lWQWqgh4R3+1ecjCu/1ocvYiIheExjQghDJewmGG8xodylA/ORUP+R9iO5KXnM3lJVmfm+/UZ2aVx6Vk43kvkrHXlPsFD78JGeYKfnsnFz1V4Co/ZrPqQj5mcr7sf4Sd/Xh/KC93RcF66fZ6XMKv2tvqXP6/BanP0PsqpnoHehZNiA2s94x/MfYxikjzzmuHnKP9Vb1SbfmcojtGseqk29e62R/q+Vs/YsXW5JZ/y3c3Ym43pTqfkxjrQZ8B64XVE6IBQcTjpPC636+tuc/bsxaODWSpCP/x6uO5/9tzhONPx9VmcwmkUv/ZmOGjd/dRnz9txczmvAy9o5OXD19HVuteK29Sz26iXimR8xu7SuPQsHIulGqjn5T51VsKAPclj1/F0zNecp+PpPuVrNOO7jlmuHtsMA9cd+au+Ru9uw/10/uXLMRjZrmvCHn0Nrzue5RdZxxV512dPQzrYJR8Nt+3r2q+z+/N6cLkRXu5f2IzmpRjc9khfazPcZ3Gw/pqB39mY7nRK1dgssVlCDgDP0h/NXijuVyQfkRI5t+t6Ix++Vg/Zi9bt1OetxVr1vXgdnyo3enddz6U+19yEYZXjXZfvyJ+vedHPSOcYjnyxVnOW3Ox8FYPb1lo3Y3dpOJ41rk53DRbSr/m5T+Ws3JxHyPm7Y96dJ/7qReI+FY/PXe7suezoWXko59lcba3Rqzpr/EtmjX2PVeeAvobzHVwdS52P/Lg+chq+rtjq3J2B7LhvrwftM3ttqg4UJz7r3eC6S89uu8bP+ywmt6scHBPh53JbnvE9G9OdTqka82D9YB1YB8QP0wtYdgWCdEaH4j6l57P26wUumx6D69VnL/DuAP3ScQyqve7dbczkiL/G4TEqv9Fcc5Y/L7B6ZrM4tO5FX+NCpp7lKC6tySazzo+90flX2/Wc3ZY/Y2/NEDadPHs1Z9b0mflxjHUmjpPOo56rcnR996+YpT/zr3X36XackzNbynFpdi5IdmbT/SrG2SxbS7P7x6/kfd19gKHOROuupzU/G86DIfzlQ5i6vvwyS25pls/Z7Lbks8o6tuKT15HWqt6ad78DhAV6nnfFtNpVDugrLtV7lV37Dq6zMd3plKoxBaoD9OQlq8SQcRD8QCTL7PLo8O7D9QDYhxdlBU8xegyuW59rHFWv7tdYqr3u3eMmzjoUO7PHUQnncvXZbUqvxuznWfFzfZ696EekqznVePzd68ZjQMb38Fv3R75rrLxja82ocVcdj9vPgmff6+oWOV04Xkc6D8cW2dG65z07zxq73t2n22Hf8/D82KvYe7712e0Sv/Z9HZseCzLduNR/1atnI/zwL6yJw+NWXMSvXLDLcMzYG63Lp+vLzmyWHfmus2NXcUXWfTmfHQ/VYbW95t3rtMbq2NXYlC+4KQf0FZfHuiaOKoP92ZjudEojY140Smg2OzheLNWuAMBOBcH3Zn5Y78Cu/mbvHmPniz0Vtmzp4Gv82q/zkn3ty48XHXGOhhe+Y68zc5JL33Oe2UXW/Ves2ZcP4h4NFTz7NQ7XVd6jeS22+J/FMYpt5Gu0prPAhuczkvU1x9X1tO5r6AnfGebCq+I4yq3GKtsuK3v49rpRTbPuubuu8vSzWcvZpfgv9U98npNiHM1grOH+tOackqyvOTbOJeHlccimz372S3i47CgXX/NzXHse6HfD69HtS8f9Cyv2HBfFwqx18QDZJR/y5XMX9zSjTsmN+7Mfpifrz544ukpy5s/3HQh0vSDdh56ddIpTe9WW9mezxyEbda65eYyjWEa+1hSxF5fHNfKPD7fpJNJ5+ZrHpH3ydJ8u4wVZL0/f6/D2cyRWHx5DxVvvLr/0jM7a4bjJV51HuKzRq5i7jmPl+et8HVfHXLLV9ixf9+l2JO/75M27r3V+ZnXp6xVLvcv/aH6tf2zKz2yuWHh9KiZkpD86F85Cw3Mmfj8/P2vJa3a/6M2GY6KYRnP1Re2O5EZrM9+sez4jPvg+tn2MfGnN5dzGyIfL6rn60jrzyyhsp1MysX8eZ4cwC9aL4h9j/7cgIJgBwMfs8GrxSke2ahFof2mWvs+dLRWvE2HJB/tOLPka2ej23I/iQF4kWroovdjQGw2XqZj72dZzc1t+htUGcu5D+TLPaspt1+dZHlXO39eehevwPNLDv/B3eeeN15NjKHmXdbyWzlP6mmd2tM/sOVBD/t7h72fm+WDT9/w8q5zHoedr+MeW15zHID8+O3e07nF4bcuW5+KyYO5n6rqyrdljxMZs+DnKf52RqcPtV/n6XnX93c9zVhOes2ODHccXv6N7bo0Pj4lnbM3GdKdTmhnLehDYOwKp672fUOJ7RATUvGeN8xJMOq6n8V2CaHQOi0BHhsMmlcCDwMERSOM7+AEm/H0jkMa37/NJdEHgWgh0XM8vvmuhHDuHQKAjwyESSJBBIAisQqDjehrfKggjdBYEOjKcJcfkEQSCQP7jltRAEPiLQBrfXyjyEAROjUDH9fziO/XRJ7mKQEeGKpv3IBAEjotAx/U0vuOeayK/AIGODBeYi0oQCAI7RaDjehrfTg8tYd0GgY4Mt/EYq0EgCLwFAh3X0/je4kTi880Q6MjwZkHFcRAIAldHoON6Gt/V4Y7BPSPQkWHPcSe2IBAEtiHQcT2NbxuWkT44Ah0ZDp5awg8CQcAQ6LiexmdA5fH8CHRkOH/2yTAIPA4CHdfT+B6nDpLpwv9iewAKAkHgPAik8Z3nLJPJKxHoyPBK01EPAkFgRwh0XM8vvh0dVEK5PQIdGW7vPR6CQBC4FwId19P47nUK8bMLBDoy7CLABBEEgsBVEOi4nsZ3FYhj5CgIdGQ4Sg6JMwgEgWUEOq6n8S3jF4kTIdCR4URpJpUg8PAIdFxP43v48ngsADoyPBYSyTYInBuBjutpfOc++2RXEOjIUETzGgSCwIER6Liexnfgg03o2xHoyLDdWjSCQBDYKwId19P49npqiesmCHRkuInDGA0CQeBNEOi4nsb3JkcSp2+FQEeGt4opfoNAELg+Ah3X0/iuj3cs7hiBjgw7DjuhBYEgsBGBjutpfBvBjPixEejIcOzMEn0QCAKOQMf1tvGhmE8wSA2kBlIDqYEj1oA3Qn9uG58L5jkInAEByJsRBILA+RHouD69BTql80OWDM+KQOr6rCebvILASwQ6rqfxvcQqbydHoCPDyVNPekHgoRDouJ7G91ClkGQ7MpwVnZ8/fz59/PjxrOklryAwRKDj+lUa39evX6f/EcynT5+eIF4dEJHAZh/2v3//XtX+vv/58+cJvx8+fPhr4/3790+fP39++v379185f5Cv2T6yyPglQezS62ZiYXRYuP4IE481z7dBgDO4ZLx79+65DrqaXGMXfWKAF2vGUj1R/8jAhzqoMfyo7uDHt2/fqtiqd8U9E/7x48dfLoIVPBzFhD7xEgtxMfO+ZazVxz9x6OzAijgzHgOBjuvTW6BTqrBRiMhTZDzr8+XLl79FVwtOjU+yPnuxjoj669evv8QR8dF3ko8uKGLk442t5lL3aZIeW30WqZQf+yMsql7XfGtMeb8eApzN1qFLn0u6qx0aTbePX/apmVlTqLF19QS/1EBqI9UXNnyxh5xksbllKP8ZdtrHPrbhL7Jwsw7tgQOyzMiSy5qxVh988Y9tdPCl/MXVNf4ic1wEZvVKRtNboFOqUFBUyI9+xXDBs1dJoIKvtvROc0MP4vqgoFnjMypg/Kng6z729Bk1VPywT2xrhkjIrNFhIZnMb4cA57t1qHFwOaM/+9KyVNPiQq3LLp6leoIPutDhjAYcgCPsqyG7LM9LA3vKSbypOtjBDzG4TfiFjn8BVTOuTZr3Dlf53KIv3Jznyp9YM86PADU1G9OdTqkaU5GNGh+yIo/rjdZ8f6anZuOEqnpcMCKj75GTLgT2RxcYMsS2NPQtF3tO+CUsluxm/7YIbKlrIlGzounpy9js18mamt6a3Zp6Gsl4Havx4RtZLn5vkrOYsCE7avpVliaOzIiPcAx+aMhG5d0Srpfo43fU4NSQt3z5kP/Mx0KAupyN6U6nVI2NiOcyFGAtwjWXBDo1jlFDc196VoP0AscWfkXWUYOTjOyMZohKHHzqBbKExche1u6HQK2nJc+6KHXO+uJU9bDrH68tdPWrBhnq2n+JVFv+vqaeVOv+xRM/ajre+Nz20jNxqqEpjqqjdeHj+5XjvMOZ0SBex2wks0Ufe/WXJTbBgj3izjg3ApzzbEx3OqVqTMXvxEOGX0L6licCSbeSQuvMflH4nxFVtKOCdn2e1dy8wMlJ5NJFVONymWqTd3LiQkGu6rI/w2JkK2v3R2BLXRMdlz8fDTXCevacO3LY51n71DKXPevUMnuq/dkvR/li7uqJX07a9xjRkw98wgXVvdve8iw/VUd+6jrv4r7+IgIGszjglBr1yBZra/V1TxBzHcSCnTXYV928HwsBznk2pjudUjUmUqAz+oyKTIQZyWsN0oo0+OwKusYkWScadvXOpaFfbe7DZapN3okJmVFO7C9hsWR/5DNr10MA/NcOmhby/utMF+foy5dq2u1rrf4i0hevuu66PK+tp2qHdzVccuCZmoUXlwzFUXWVX13nXTry2dV+Z0e21+qL+/gfjc7OSD5rx0SAc56N6U6nVI2pwPWNlnd99OuIPR8qdMkxa425/jsAuksF7fYliy2NWvD69u6XWJWRLjPf4tnvvpmSBzIjLJSrfg247TzfBwHOZu3Ql5xai2padV31K/vs48/rq+7NvkBJblRPiotfeWoqkvcZ/8h6A1RtutyaZ8VRZWvOvi8dxYhv56PLdnYkt1Zf3Mf/aHR2RvJZOyYCnPNsTHc6pWqsFnjd10XhF/6s0NWMRgRRQUPmpbH0p07pKw7kGTNS6Bs0l0i98GSLeQkLl83z/RHYUte1YaDrn3qxqpaUleqVdWTrZ1Zr0mee1RP1iD4x+l8sXFfPxMGXNWwpJ+ei5LpZcVSZmrPv09SJUfF1+RJf94USu2v1hTsx16Ff7EtfOKpe3o+HAPUyG9OdTqkaEykouNFQIXrD6gijvVHhQtz67xkjnyKdGhoyI+LQxLCpC2QkA1n07zdub+R3CYuRTtbuh8Dautave2qWM62fUR2qbpWN6h6fsw863ejqSXtLNohDMorJudj515586V2z1uufWtmvePAObqMx4l2V26KPvdEvbeVP3BnnRoAamI3pTqdUjan4KarRULE52SopXE9/IiKG+usKG6z7v7u4Ls/ezHwPPfzWofhlu8roF+uab4myNcOi+s77fRFYW9c6c/1aqVGqVvyLUK1p/Sp7zSW7VE/6Qua/4PCrX3jETS16TYPBqCnUHP1dcfgaz+SPPfcvGZqc+9WX0crptTht0Sf/0Rdk/UUp/NQpnXfuuH6XxqdLxMlRL4kKv4jmxEGGiwhCzcgGqSh69v1SQpe1ak9+pVNlRJSZnvQ1K+4QS4jsa+Z8lwY1hFzXHHRZu8yoprl8qdfaQPWLknrpxlI9UWfE6j7wxRq+efbGp3p2Lnb+tac49K5ZfIQ/nuPIj2L1L8DY0f1QG6J8aN6ir3g9T+IDk1FDlI/M50Gg4/r0FuiUKjQqMgqaZ/+ooTD7GF0Svq8iJY7awLh0KF72sCt/IhDrXvCyy/qsgekicxldgKzxbVN+RrP8sYf8CAvXk7xiy3wfBDibpTG6tEc6qkFd2PpFwqzzpa5oSnxUE8zEwZp0R/ZZUz1x6c+G6h6/GtIjRvY147dyUTrdLHsjGXLFLj6QU34jP9qDh8jqHvDY8aEmV/m6Vp/7A//EhQ6+dF71PhnllLXjI8DZz8Z0p1OqxkQKdOpHjcm/DaKvgq+2/F1/RqFgqz7vXFAqbvwiR5HPLhNkKpHcn/KQjMhXcxq9S0c2RjK+Jnn3n+fbI8AZLA1dkLXmqp4aHWfO8C9kfr6s03xodPhXE5zVqftRPXWNDzuyjS8NGhJxqO6QIealvKTvs+LwNX+Gq+Ki8pv5wZYwZhZ+bk/ccxy1v0YfWfxzHwgb4kvTE4rnnzuuT2+BTun8kCXDsyLwiHVNExk1kLOecfIKAiDQcT2NLzXyUAh0ZDgrEGl8Zz3Z5NUh0HE9ja9DLnunQ6Ajw+mSTUJB4IER6LiexvfAhfGIqXdkeEQ8knMQOCsCHdfT+M566slriEBHhqFCFoNAEDgkAh3X0/gOeaQJ+lIEOjJcajN6QSAI7A+BjutpfPs7r0R0QwQ6MtzQbUwHgSBwZwQ6rqfx3fkw4u5tEejI8LaRxXsQCALXRKDjehrfNZGOrd0j0JFh98EnwCAQBFYj0HE9jW81jBE8AwIdGc6QX3IIAkHgfwh0XE/jS5U8FAIdGR4KiCQbBE6OQMf1NL6TH37Se4lAR4aXknkLAkHgyAh0XE/jO/LJJvbNCHRk2GwsCkEgCOwWgY7raXy7PbYEdgsEOjLcwl9sBoEg8DYIdFxP43ubM4nXN0KgI8MbhRS3QSAI3ACBjutpfDcAPCb3i0BHhv1GnciCQBDYikDH9TS+rWhG/tAIdGQ4dGIJPggEgRcIdFxP43sBVV7OjkBHhrPnnvyCwCMh0HE9je+RKiG5tv9fmQNPEAgC50Egje88Z5lMXolAR4ZXmo56EAgCO0Kg43p+8e3ooBLK7RHoyHB77/EQBILAvRDouJ7Gd69TiJ9dINCRYRcBJoggEASugkDH9TS+q0AcI0dBoCPDUXJInEEgCCwj0HE9jW8Zv0icCIGODCdKM6kEgYdHoON6Gt/Dl8djAdCR4bGQSLZB4NwIdFxP4zv32Se7gkBHhiKa1yAQBA6MQMf1tvGhmE8wSA2kBlIDqYEj1sCsb7eNb6aU9SBwVAQgb0YQCALnR6Dj+vQW6JTOD1kyPCsCqeuznmzyCgIvEei4nsb3Equ8nRyBjgwnTz3pBYGHQqDjehrfQ5VCku3IcFZ0fv78+fTx48ezppe8gsAQgY7rV2l8X79+nf5HMO/fv3/6/Pnz0+/fv18EBxEJbPZh//v37y906suvX7/+6lf7kp3Zr+uzi+Hdu3fPPpZikb/M+0aAc79kXKsOqCNi+PTp06owOm5h58OHD0/I/Pnz5x97NDz8qNbh4rdv3/6Rmy24rmxoxraPHz9+PMfCPljB+VFM6BAvsSDLzPuWsVYf/8ShswMr4sx4DASor9mY7nRK1RiFiDxFxrN/RB6Kz4mgxueyevZi7YiKnAiE7mjIpmb5rbGOGpsuKXzMGuPIZ9b2i8CWulYWa+tgzS8r6qhyQX5GM3U749aXL1/+1n9tpMSCHr7Yo4aXuFL9S0fc8dm/aDo+yMAtfNNo6tAeOCArPpLLmrFWn7sG/46d8k/zW4P08WU4+9mY7nRK1RgFjHz9Fig57Xtxq+AlU2f9moO4s8EeRKDAKeo1Q7HMYnUbujCIm/yc7C6X5+MgsKWuldXaOliqaeoH/1su3qV65YLXhQ5nNOCEGqwassv6l1Dp+Mw+seK/G8jhhxjcJl9Y0fcvlGrGtUnzjuwSv7boCzf/4kx8xLn2rujyzt7+EaCmZmO60ylVYyqyWTMRibgYNJYuCeQ6GX3L5BIRydZcKEuxKj5dUjQ9NWFv3JLLfCwEttQ1mW2pg65eL0VpTb2OZMhTfFPjIwZkufi9SY5iU5NZ4hT7+PIGJ3s0RP/VN/sCuZZfW/RnX4a33BXKI/MxEei4fpfGB2xORN7XXBIQdBY83xIhFkONtX6TfN4s/2d0SRSR51cRRBeEvkGPZLN2HARm9TTLYG0dYNc/ajrYpYb0qwYZ6hq7a8aaetWf//yLJ37UdLzxrfGJjPwSJ3YUN+s+JCee+F7lOO/irMvxjH3HrO7zvkUfe6P7QA295jHyl7VjI0ANzMZ0p1OqxlT8TjyXUbF5IVZSuLxfFJC6Dn0L9z1dLEt/LlmKVb64nPho6AIcfbOVTOb9I7ClrslmbR1QV8hin2fVCbXMZc869cqean/NXxC6eqXWte+1StzygU9+lfG+ZYhPxE6c+FF+a3msX2j6EygYzOKguapRz+Jcq6/7hpjr0JfkNdhX3bwfCwHqZTamO51SNSbyjRofpNM3Rt8XMfEz+0BakcZ9qgn5t0z9yWXpm3QXq3xgl5jclgjjpJd85uMgsKWut9aBatrR0JrXKvtqLHXddXlWvc44wjo+qh3e1XCRUQNzDlZf/k586NQvkopbjV35ua6eFbt8Klbt+9zZkdxaffwhi//R6OyM5LN2TAQ459mY7nRK1ZgKHJ3ZR0SRrgodXX20xlwJJz3m+i1cexC1fvPVnmbFKjJq3WcaLnnUGET6uu66ed43AlvqemsdqH6FAHWCP+qmDu0t/fJQvRKLeKK4qPWujvGBrDdA4mHt0kFD9Zxqzm5XsStG9JAfjc6O5Nfqp/EJsceeqZfZmO50StWYCtzJKZLS8Ea/2maFrl9zM4KIeMQ3+4hoNU7eFWsnUy+K6gcbGcdEYEtdb62DWtO6gFkXH3wmllmdC91ZvYoHxDjil/SZiYO/umBLOdUvoi6/9Oxx15xdN3/qdDTyfG8EOq5ftfF1zaQm3RFGexC1Dn3b9QtEzyJa940WWQCZxcqFwP6oiaPLxbH0q7LGnPf9INCRwaO8pA5Ut7KjxofP2QedbnT1qr0lG8QhGcXUcUTxzBoqucieYqAR14GM4807/BkNtznaZ22LPvZGv7SVP3FnnBsBr72a6S4bn/4MROA8+4A43T+C05TQm5FWRIUAo6E/Z8701Xj5N8WM4yHQkcGzuaQO6kWvX2WvuWSX6lX17r/g8KtfeOTkjbYsPHEAABn1SURBVI93MBg1BeWvuEcyahz6E63+bd39yw5cBRMNfTGtnJa/JZy26JP/6Auq/qI0479izXx8BDqu77LxAbkI78TRt3D/j07q8aiwZzKyOyp8NdwR4eVHJO1kJJt5fwh0ZFC0l9ZBbXzY4/KlAdQvUqrlpcu+q1fsqxG5D3yRJ755RkY8Ej9GjUr5K25sUO8a2KKhsK7mxZq+jPKsMfKjWOuvTbjkNmWjzlv0hZvnSXxgMmqI1Vfej48ANTUb051OqRpTkVGYa8foknBdFSlx6NfVGoLo0poVdxfriKwek56xvYaoks+8HwTW1PWldaBfJMy6cGkcNAY++vO5/mrAmhrIDKGuXqUjXuBXQ3rUKvuayb/7i4n01WSIEbvYU93z7ENNnH32lN/Ij/bgP7K6Bzx2bMu/Grb8rdXn/lCTRsfj130im5nPiUDH9d02Po5Cf0aBUP/973+fm82ITPXYVPCjRgwBAGS0J2L7N9dqm3dIig1sZRwLgY4MyuTSOqDJSdcvbNZpPjQR/KsJLjU94unqVfFiR7b9FxoNSY1FfqndpfqWXcWNLh94NWsarIt3ym/mx5sQeI14NGt8wkQ4z/SRwz9NT9h08SvnzOdBgJqdjelOpzQzlvUgsHcEHrGuaSLeiPd+RokvCFwDgY7raXzXQDg2DoNAR4bDJLEx0DS+jYBF/BQIdFxP4zvFESeJtQh0ZFhrI3JBIAjsH4GO62l8+z+/RHhFBDoyXNFNTAWBIPDGCHRcT+N748OJ+/si0JHhvpHEWxAIArdEoON6Gt8tkY/t3SHQkWF3wSagIBAELkag43oa38WwRvGICHRkOGI+iTkIBIExAh3X0/jGmGX1pAh0ZDhpykkrCDwkAh3X0/gesiQeN+mODI+LSjIPAudDoON6Gt/5zjsZNQh0ZGjUshUEgsDBEOi4nsZ3sMNMuK9DoCPD6yxHOwgEgT0h0HE9jW9PJ5VYbo5AR4abO4+DIBAE7oZAx/U0vrsdQxztAYGODHuILzEEgSBwHQQ6rqfxXQfjWDkIAh0ZDpJCwgwCQWAFAh3X0/hWABiR8yDQkeE8WSaTIBAEOq6n8aU+HgqBjgwPBUSSDQInR6DjehrfyQ8/6b1EoCPDS8m8BYEgcGQEOq6n8R35ZBP7ZgQ6Mmw2FoUgEAR2i0DH9TS+3R5bArsFAh0ZbuEvNoNAEHgbBDqup/G9zZnE6xsh0JHhjUKK2yAQBG6AQMf1NL4bAB6T+0WgI8N+o05kQSAIbEWg43oa31Y0I39oBDoyHDqxBB8EgsALBDqup/G9gCovZ0egI8PZc09+QeCREOi4nsb3SJWQXJ86MgSeIBAEzoNAx/U0vvOcczJZgUBHhhXqEQkCQeAgCHRcT+M7yCEmzOsg0JHhOh5iJQgEgT0g0HG9bXwo5hMMUgOpgdRAauCINTBrwG3jmyllPQgcFQHImxEEgsD5Eei4Pr0FOqXzQ5YMz4pA6vqsJ5u8gsBLBDqup/G9xCpvJ0egI8PJU096QeChEOi4nsb3UKWQZDsynBWdnz9/Pn38+PGs6SWvIDBEoOP61Rvf9+/fn0mGUz7v3r17+vTp0xPkG42vX78+y8320RnJQGT5GM3sE8ts/P79++nz589P79+//2vnw4cPz77+/PkzU8v6wRGgVi4Z1DG6XU2tsYs+duDEmqHaH9U4a13Nwin8SJda//bt2xq3/8go7n82/m/hx48fz7HgC6zg1oxH5CTeMfM+GuhjR9iTK37Wji36W+Jf6z9yb4sAtTgb051OaWSMIlMzopi/fPnyXNBeuDzXIWJf2vjQrx/3OSI6JBaZuBikD7FE3F+/ftVQ834CBLbWNSnr0qeuu19O1HC3jy32qb1ZU6gQix/UtOpUMxxTA6mNlFhUy+whJ1n0twzlP8NO+9jHNrEiC5/q0B44IMuMLLn4AB/xUbkr/jXNb4v+lvg9xjzvG4FZvRL11RqfCnhEKopQBV8LHHkCvLTxzaCncWGXS8aHLgRINWpu7KPDh1+FGedCoCPDLFM1DmoX/VldiAMzO+ihv+bilo0lfsAtNQSvZ+pbDZaaJjaX5XlpYE85EfcIO+zghxjcJl84kaepaIh7tUnzjqzjqrz9i6vix9fSWKu/Jf4ln9nfFwKjelWEV2l8+sZEc+uGvsGNChxSzIaK2GVEyJkO6yMZXRIeQ7XBxQRoS/lUvbzvH4GODKPo1axoevoyVb+8SW9Ub9q7dB7VfrU1kiFP4mGo8fGMLBzwJlnt6R0bsqOmrz3N4oo3OO3REOG8hmxU7o1wRW/U4NRQl748rNXfEr/yyHwMBDquX6Xxjb6xjaBRg/SLY0TaqjuSWXPJqMnJngi2pqFJ17/Fyk7m4yLQkWGUlS5aNQouVC70OtQkNKvpIIeuOMI+teW/ZKotfx/Vvu/zrL+m+BdD/KjpeOOrut07caqhKY4qr3Xh4/uVo7yPsEOHeB0z3usvQ+TIhT38dmOt/pb4O3/Z2x8C1MBsTHc6pWoM2VlBuyxNBFkvcBWek9Z1eB7JVFK5jl803uRkZ82lo2+nXVzuM8/HQGBLXZMRlz8fDTVCNQStU1vIYZ9n7VOLcIN1apE91a5/AZSdOqtmR3XILyfte4zYkA988qvGOVd9rHmXnyorP3Wdd3FIXx4r912HJu2NWji6DM+6QzrsuuZY9bfEX2PJ+74RoIZmY7rTKVVjXUGPZN22CDUitnRHMipYbM0+kF6kw9bIjnzUWbLMGedBwGtvKSuaFvL+RUkX5+jXiGrS7Wqt/iLSL8C67ro8qw5nNc46Pqod3tVwkeGZZtHxrPr2d8Xhazwrv7rOu3TkU7GOZN1O17jQ7eywv0Xf/da4avx1P+/7RoA6mY3pTqdUjS0Vossj67bXFNdIRgXLnj5aY67/jkAMIzsemz9LljnjPAh47S1lxRcn5GstqWnVddWf7LKP/qhJaq/75YId1aF+LfKuuPiVp6Yinz7jA1lvgMTD2tahOKpezdn3paMY8Y38aLidLY1rZGuLvvuttmr8dT/v+0aAepuN6U6nVI0hW//UUmV417dlL/41xaU/mYhA2JoVrP4U5T4Ui3zpz1BaH80jnyO5rB0LgS11XRsGuv6hnnzUmtQFzDqy9YOtUZ26TdWs1z77/KJDnxj9rxquq2d0+TMitpTTGg5In1lx+BrPNWffF4cUX5dv/tTpyOX5GghQb7Mx3emUqrHZN+Aqp/+Cyr/lilAdEUUuEQi7Wqs+fA/bPnRZrPnGCxHBwH26rTwfE4G1dU09IkutUEf1QwOpX/ZqTarxYWf2Qacb4kdtfOhob8kGupJRTGs44HHJl695DPVPrexVPHgHt9EAH8XIPu+jX8qKn3i6sVZfea2Jv/OXvf0hQA3MxnSnU6rGdEmMCtVl1Uy8yFTI3gxdh2cumEqYSirX0Z+RyIFnH9hi3WPwfZ7VoJfyqXp53z8Ca+taX+ZmX3xoHNiiVjRqTVJjyCxd0tIfzbqY4cloqJ79iyN+9QsPHXTXNJWRfa0pDr1rFlfcv/bgrPvVL8DKyRFOxF+/WGBXf9GZ4SHfa/W3xC/bmY+BQMf1qzQ+YBDpR98kuTx0UYwaHAThM2pGKvRqV/5mRyCiOvGQVaOd+WNf8VSCznxl/TgIdGRQFvri1H3x0WXtMqOa1Je22kD1ZXGpKaqOZxe917N8MJMnvnlGRjwQn0aNSvmPZsVR97APX2g08o/MyI9irVzWlwznm/x5nNgnp1FDrHGt1d8Sf/WR930j0HH9ao2PAhLxKUwaHMVHkUMMgqgFL9j0rUsy6PGBTKxVUqEnX7JRZ5EEff9WjhxkUkyQrvpjb9SEq4+8Hw8B6mFpjC7tkQ51jj1d2PpFw6wLmzqinvhQ/+IEeqxJd2SfNeSRnTU+ZNQ4/Eul9IiRfc3Ygk9bh+yN9MgVu/jw/EZ+wABZ+IuseOyx4wP+iv/CTXhXPsuGY7RFf0v8o/yztk8EqLPZmO50SjNjrFNEIiI2IDfvXpQjfS4IChx59PhQ+JCDIq5DxV7X/V0NFcJUG1w4kE1kWvLndvN8XAQ456Whmqg1U/WoH+xRowxqWLrUpwbrcEC1zUytLzU99LGNj44/2JFtfGnARfEEG8gQ81Je0vdZcfiaP8M1NSrlN/ODLeHELPzcHs/o+52A/dr0kFOOFaO1+tjYEn+NM+/7RKDj+vQW6JT2mWaiCgLLCDxiXdMQvBEvoxSJIHB8BDqup/Ed/3yTwQYEOjJsMHMo0TS+Qx1Xgr0SAh3X0/iuBHLMHAOBjgzHyCBRBoEgsAaBjutpfGsQjMxpEOjIcJokk0gQCALP/zY+gyGNb4ZM1k+JQBrfKY81SQWBfxDouJ7G9w9cWTgzAh0Zzpx3cgsCj4ZAx/U0vkerhgfPtyPDg0OT9IPAqRDouJ7Gd6qjTjJLCHRkWNLNfhAIAsdBoON6Gt9xzjGRXgGBjgxXMB8TQSAI7ASBjutpfDs5pIRxHwQ6MtwngngJAkHgHgh0XE/ju8cJxMduEOjIsJsgE0gQCAKvRqDjehrfq+GNgSMh0JHhSHkk1iAQBHoEOq6n8fXYZfdkCHRkOFmqSScIPDQCHdfT+B66NB4v+Y4Mj4dGMg4C50Wg43oa33nPPZkNEOjIMBDPUhAIAgdFoON6Gt9BDzVhX4ZAR4bLLEYrCASBPSLQcT2Nb48nlphuhkBHhps5jeEgEATujkDH9TS+ux9HHL4lAh0Z3jKu+A4CQeC6CHRcT+O7LtaxtnMEOjLsPPSEFwSCwAYEOq6n8W0AMqLHR6Ajw/GzSwZBIAgIgY7raXxCKfNDINCR4SEASJJB4EEQ6LiexvcgRZA0/4dAR4ZgFASCwHkQ6Liexneec04mKxDoyLBCPSJBIAgcBIGO62l8BznEhHkdBDoyXMdDrASBILAHBDqup/Ht4YQSw90Q6MhwtyDiKAgEgZsj0HE9je/m8MfBnhDoyLCnOBNLEAgCr0Og43rb+FDMJxikBlIDqYHUwBFrYNY628Y3U8p6EDgqApA3IwgEgfMj0HF9egt0SueHLBmeFYHU9VlPNnkFgZcIdFxP43uJVd5OjkBHhpOnnvSCwEMh0HE9je+hSiHJdmQIOkEgCJwHgY7rV2l8X79+nf5HMB8+fHhi/8+fP/8gKr2fP3/+s6eFT58+Pdv+/Pmzlv6ZZYdEf/z48c++Fn79+vU3TnRm4927d89y379/n4k8ffz4cbWMjBDfmg+2GeCyRr7LRb4z/w8B8FwzvKbqGXQ1vcb2vWWUS8eza8ckfsjuW8Qg35kfE4GO69NboFOqMKqoaU486/Ply5cnLglsMdfmJ70ZIX///v2s+/79+yeaUdVXHLKDn65BEg8yfNAZDZod+/hUAxrJidhdXJKRvnDRrP2KmxquGh9y0hnNM/zkN/P/R4CzXTPAGdl6Nks1vcb2vWWUyz3rRLWtXO8VAzniOyMIdFyf3gKdUoV0qai5PHSJuO6S3rdv3571NKshuA2eZYcmxGc2aGZqxOiMBr8wkVOTpPmOhohNXuiMhmRGe6wp7tmFxDr2Z7HO7GZ9jsDaul46m1lNzz0/1s5S7d8Kjbfye6t8YvdyBDqu36XxEboK0hvJ0uWiRoU+DY2mNRqyo8to9OdO/ZlTTXTUTPQLk6YneZ5HQ/loHvnU3kifNcWdxjdD6PrrHRnc29LZIKvz9Zp2G4/8LGzujcFb+b13nvG3jEDH9bs1PjUcZo3uclHjkbx+gbFeh+zQfEh21KxYo5F2v6IUo3zQaGe/IEUwLj390qx/ipVMjVfvijuNT4jcfu7I4N6XzgZZ1YtqVPrUof6ygD+e6xmrDpmpTWpIstQftaQvcqzzV4XaYHlHhrpGRvrE7mOUyyjGquc2/FmxKWZm4vD6r7U/igGbrHv8ozyxxQdcZHeEiTDQjKwGutjWHj7ruSE7kqu5yWbmfSPAWc/GdKdTqsZmRe1yIjpFpNHpIUcMIjsFybvrj+xQ3BR1HaxxwSgOfNeBjOvqYhv9iVUExIbkamwuU33x3uXPfhfryF7WlhFYW9dLZ+Pn4+eufyOmGVBv2KGm8Ot/FdDZ0hTZRw555HhnnfphXRe2X+Q0GXyo6Uifd2x4zbLHGj49bvllXzHy3A35xR5xIS+uErNGrf0aA3LSUxz6AkAO4j1y2EKGdfmUfdY1ah7CgLtDuOATOenjU0O5IauzkxxzxrEQoEZnY7rTKVVjo6KuMiK6F1CnpyJ3OxCL9Trcji4eil1DTZNZcaDjQzL+LRAiiOAuy7MIoXViQ1aXy0hGspo9bq35rFix231cJ889AuC4ZiydDTZ0PqppXZxcxjxr8KyLW2vSrbJqfrIp+VpvNFG4oMtdcjQMcnT9mosazihG9rqh+KpfeEMuqv8ab41B+dPIfIiHvi5bzk10kCFXdDQkq3dmrbkc61Vfd4d/QZEcuWUcC4GO69NboFOq6deirvu8q9ApQo2ZngpwRC7iqutuBzIj49/keFbhKg50fOgy8G+a7IscdV1kkg0R1i+yKiNZzR631nxWrNhBdvZxnTz3CKyt66WzwYufD++q23pB+54uVenix4f8Sk57Wtd7N5NjxzPZYq7NoLPLHvUtLnWytfblk7wZ4tvIv/bUmKst+a02Wa+y+iLgjVT62tNdoTNBVnFKNvPxEOi4fvfGpyIDxlHhsq5mQ+Cjj5N6ZAd9JyfP8qvixrcPvj2PfGmtyleCeRzyNZJxn7P8JTOLVfuZtyPAea4ZS2eDDZ2Pzls6XNw8+0eXOWuuq3fFxDsx1otX65LTTHNAlmZLHPrLg3NEurKJjuTwRe0TX2228uEz8m7b9/y51n6NQfus14/2FK/e3T7P1SZrVRYbirn6kT46GjondPhwl/CFRk1Ycpn3jwDnNxvTnU6pGlMBqVDrPu8QE5v+bXikp29hFOOoUEVY/wVW7eibN98m9UtM3yxFBHQ0JD+6sJDjYvBGil4lmGwpPvzMZCRb49a65lGs2st8GQJr63rpbPBea1o6+Jh9kGHMzlY22Pehda1xEau+5Iva08XNnoZ0q00aHfLUtmy4nvR9Rm5JBnnFJt0ag/bldzQrXsnKluZqc+RXOI/sa63mw13hXyKQ4w5I8xPyx5g5t9mY7nRK1dioAKuMyNU1LHR0mcy+fapJ6Vs2OtU/BUr8yPDxpiUioKOhX5izwtZl4jHNyCj7+JzJyG+NW+uaZctj1V7myxBYW9dLZ4P3WtOqXc5taczOduZX67KrmsSnc4p9cvTLXLpdXNgQDzo5cnY+KR59wYSfjFr7NQb5kn43V1uSrTZHfhUXspcM7gT5udTGJX6j83oEOq7fpfGJpN6sSEsF5USDVHy76gb7LjOyA7H4Bow991svHAgPQMjPhsjjMjMyYgN/2NRnZncUt8vWWH0vz5ch0JHBLS6dzaimVUvedGRT8qr12dnO/Gpd9lR/9cuamq/HIF35JhZ4UXVVt9T7bEhGDU5yyk+6ik/7NQZ9gWXdBzHBW/+FVW1JvtpkfSSrO6XmW2MAO/wqB/nhCy91w37GcRDouH7VxkfxU4z6QBKKjgAo5lp4tXDVYLDTDZFM5Kt20FVR49sLuV44uihka+ZXeejb9Yhg0iVPyXfgj+KWDWbFii9hOptdL89zBLrzcC2dzdaaVt1x/tQ/dlQrcEBDZ8u+D/lVk9Ke1vWuBoQf9vhgn/y4vPGpIV3ZVM17jPoF5nrS91mNCT/CRvk5b7Um3RoD6+IxcSsH8Yb8NKotrY9sChdmcRr+gwkfxSzfrInTun+qnHTr/aU4Mu8TgY7rV218OKofinb2TakWrorR/6Q4glTfwLDNqHZY07dviOSjXjgi2lJRi1D4YszIKF/y04E/ilv6zG6j4lrfXS/PcwS683AtnU3FmfeuprFBfao+kKfGsOc1prNVPcm3/LLvQ+u+Rk1yKeODmebF5a0mJn/SdZs0BTXKWYzuy5+xC1flW/m5jPLX2igG9lj3OHhWw5JutaX1kU3yF6fR0xAuipmZHNT0JAdGwk+4juQkn3m/CHB+szHd6ZRmxrIeBPaOQOp67yeU+ILAdRDouJ7Gdx2MY+UgCHRkOEgKCTMIBIEVCHRcT+NbAWBEzoNAR4bzZJlMgkAQ6Liexpf6eCgEOjI8FBBJNgicHIGO62l8Jz/8pPcSgY4MLyXzFgSCwJER6Liexnfkk03smxHoyLDZWBSCQBDYLQId19P4dntsCewWCHRkuIW/2AwCQeBtEOi4nsb3NmcSr2+EQEeGNwopboNAELgBAh3X0/huAHhM7heBjgz7jTqRBYEgsBWBjutpfFvRjPyhEejIcOjEEnwQCAIvEOi4nsb3Aqq8nB2Bjgxnzz35BYFHQqDjehrfI1VCcn3+37UMDEEgCJwfgTS+859xMlyJQEeGlSYiFgSCwAEQ6LieX3wHOMCEeD0EOjJcz0ssBYEg8NYIdFxP43vr04n/uyLQkeGugcRZEAgCN0Wg43oa302hj/G9IdCRYW+xJp4gEAQuR6Djehrf5bhG84AIdGQ4YDoJOQgEgQkCHdfT+CagZfmcCHRkOGfGySoIPCYCHdfT+B6zJh42644MDwtKEg8CJ0Sg43oa3wkPPCnNEejIMNfKThAIAkdDoON6Gt/RTjPxvgqBjgyvMhzlIBAEdoVAx/U0vl0dVYK5NQIdGW7tO/aDQBC4HwId19P47ncO8bQDBDoy7CC8hBAEgsCVEOi4nsZ3JZBj5hgIdGQ4RgaJMggEgTUIdFxP41uDYGROg0BHhtMkmUSCQBBo/wfp28bHJZFPMEgNpAZSA6mBI9bArP9PG99MIetBIAgEgSAQBI6MQBrfkU8vsQeBIBAEgsBmBNL4NkMWhSAQBIJAEDgyAv8Preg+fGiwG3oAAAAASUVORK5CYII=)"
      ]
    },
    {
      "cell_type": "code",
      "metadata": {
        "id": "XR44XPqHpPAE",
        "colab": {
          "base_uri": "https://localhost:8080/"
        },
        "outputId": "c28f4648-14f7-4e73-bac1-e9052acb0fac"
      },
      "source": [
        "clientesBronzes = dataset[:, 1] <= 100.00\n",
        "sum(clientesBronzes) / dataset.shape[0]"
      ],
      "execution_count": null,
      "outputs": [
        {
          "output_type": "execute_result",
          "data": {
            "text/plain": [
              "0.360375"
            ]
          },
          "metadata": {},
          "execution_count": 15
        }
      ]
    },
    {
      "cell_type": "code",
      "source": [
        "clientesPrata = (dataset[:, 1] > 100.00) & (dataset[:,1] <=500.00)\n",
        "sum(clientesPrata) / dataset.shape[0]"
      ],
      "metadata": {
        "id": "9ZAPoZRchftb",
        "outputId": "cdc008d9-7d82-4386-e359-4a31316f6500",
        "colab": {
          "base_uri": "https://localhost:8080/"
        }
      },
      "execution_count": null,
      "outputs": [
        {
          "output_type": "execute_result",
          "data": {
            "text/plain": [
              "0.056"
            ]
          },
          "metadata": {},
          "execution_count": 10
        }
      ]
    },
    {
      "cell_type": "code",
      "source": [
        "clientesOuro = (dataset[:, 1] > 500.00) & (dataset[:,1]<=1000.00)\n",
        "sum(clientesOuro) / dataset.shape[0]"
      ],
      "metadata": {
        "id": "raeD7yZahieM",
        "outputId": "962d8320-ed02-4c0c-d1ce-84df03dba02f",
        "colab": {
          "base_uri": "https://localhost:8080/"
        }
      },
      "execution_count": null,
      "outputs": [
        {
          "output_type": "execute_result",
          "data": {
            "text/plain": [
              "0.07275"
            ]
          },
          "metadata": {},
          "execution_count": 11
        }
      ]
    },
    {
      "cell_type": "code",
      "source": [
        "clientesPlatina = dataset[:, 1] > 1000.00\n",
        "sum(clientesPlatina) / dataset.shape[0]"
      ],
      "metadata": {
        "id": "OKBQQIBdhj-l",
        "outputId": "91fd5b77-58a0-4596-e68a-7aa43388eb34",
        "colab": {
          "base_uri": "https://localhost:8080/"
        }
      },
      "execution_count": null,
      "outputs": [
        {
          "output_type": "execute_result",
          "data": {
            "text/plain": [
              "0.510875"
            ]
          },
          "metadata": {},
          "execution_count": 12
        }
      ]
    },
    {
      "cell_type": "code",
      "metadata": {
        "colab": {
          "base_uri": "https://localhost:8080/"
        },
        "id": "3ZQ3j8VSPm67",
        "outputId": "8ec85b38-dba7-4018-c000-5581dd1a8f8f"
      },
      "source": [
        "print(f'Quantidade de Clientes - Cartão Bronze: {sum(clientesBronzes) / dataset.shape[0] * 100: .2f}%.')\n",
        "print(f'Quantidade de Clientes - Cartão Prata: {sum(clientesPrata) / dataset.shape[0] * 100: .2f}%.')\n",
        "print(f'Quantidade de Clientes - Cartão Ouro: {sum(clientesOuro) / dataset.shape[0] * 100: .2f}%.')\n",
        "print(f'Quantidade de Clientes - Cartão Platina: {sum(clientesPlatina) / dataset.shape[0] * 100: .2f}%.')\n",
        "print(f'Quantidade de Clientes - Total: {( sum(clientesBronzes) + sum(clientesPrata) + sum(clientesOuro) + sum(clientesPlatina) ) / dataset.shape[0] * 100: .2f}%.')"
      ],
      "execution_count": null,
      "outputs": [
        {
          "output_type": "stream",
          "name": "stdout",
          "text": [
            "Quantidade de Clientes - Cartão Bronze:  36.04%.\n",
            "Quantidade de Clientes - Cartão Prata:  5.60%.\n",
            "Quantidade de Clientes - Cartão Ouro:  7.27%.\n",
            "Quantidade de Clientes - Cartão Platina:  51.09%.\n",
            "Quantidade de Clientes - Total:  100.00%.\n"
          ]
        }
      ]
    },
    {
      "cell_type": "markdown",
      "metadata": {
        "id": "cRncDjtGpPa9"
      },
      "source": [
        "b)\t**MANIPULAÇÃO 2**: Exibir o valor médio de compra por Grupo de Cartão."
      ]
    },
    {
      "cell_type": "code",
      "source": [
        "print(f'Valor Médio de compras no cartão Bronze: {sum(dataset[clientesBronzes,1])/sum(clientesBronzes): .2f}')\n",
        "print(f'Valor Médio de compras no cartão Prata: {sum(dataset[clientesPrata,1])/sum(clientesPrata): .2f}')\n",
        "print(f'Valor Médio de compras no cartão Ouro: {sum(dataset[clientesOuro,1])/sum(clientesOuro): .2f}')\n",
        "print(f'Valor Médio de compras no cartão Platina: {sum(dataset[clientesPlatina,1])/sum(clientesPlatina): .2f}')"
      ],
      "metadata": {
        "id": "N7nrKmefikN0",
        "outputId": "e2d6fec8-9edd-4fc3-a9a1-cd168232e0c7",
        "colab": {
          "base_uri": "https://localhost:8080/"
        }
      },
      "execution_count": null,
      "outputs": [
        {
          "output_type": "stream",
          "name": "stdout",
          "text": [
            "Valor Médio de compras no cartão Bronze:  26.08\n",
            "Valor Médio de compras no cartão Prata:  297.15\n",
            "Valor Médio de compras no cartão Ouro:  744.78\n",
            "Valor Médio de compras no cartão Platina:  3203.94\n"
          ]
        }
      ]
    },
    {
      "cell_type": "markdown",
      "metadata": {
        "id": "jPOOQTRWpUlW"
      },
      "source": [
        "c)\t**MANIPULAÇÃO 3**: Exibir na tela uma LISTA: os 5 maiores compradores deste site online."
      ]
    },
    {
      "cell_type": "code",
      "source": [
        "dataset2 = dataset\n",
        "numpy.sort(dataset2, axis =1)\n",
        "df = pandas.DataFrame(dataset2, columns = ['COD', 'Valor'])\n",
        "top5 = df.sort_values(by='Valor', ascending = False).head(5)\n",
        "top5"
      ],
      "metadata": {
        "id": "Sem4m4s_3yeK",
        "outputId": "9b122635-3ca6-49e8-d71d-89ac44ef817e",
        "colab": {
          "base_uri": "https://localhost:8080/",
          "height": 206
        }
      },
      "execution_count": null,
      "outputs": [
        {
          "output_type": "execute_result",
          "data": {
            "text/plain": [
              "         COD         Valor\n",
              "1808  6903.0  11947.516458\n",
              "4347  3068.0  11172.345373\n",
              "4455  2453.0  11163.150812\n",
              "2668  5276.0  10345.071680\n",
              "1082  4962.0  10318.002287"
            ],
            "text/html": [
              "\n",
              "  <div id=\"df-08fc2c27-fd1a-4be1-964d-bbd5d9bf8317\">\n",
              "    <div class=\"colab-df-container\">\n",
              "      <div>\n",
              "<style scoped>\n",
              "    .dataframe tbody tr th:only-of-type {\n",
              "        vertical-align: middle;\n",
              "    }\n",
              "\n",
              "    .dataframe tbody tr th {\n",
              "        vertical-align: top;\n",
              "    }\n",
              "\n",
              "    .dataframe thead th {\n",
              "        text-align: right;\n",
              "    }\n",
              "</style>\n",
              "<table border=\"1\" class=\"dataframe\">\n",
              "  <thead>\n",
              "    <tr style=\"text-align: right;\">\n",
              "      <th></th>\n",
              "      <th>COD</th>\n",
              "      <th>Valor</th>\n",
              "    </tr>\n",
              "  </thead>\n",
              "  <tbody>\n",
              "    <tr>\n",
              "      <th>1808</th>\n",
              "      <td>6903.0</td>\n",
              "      <td>11947.516458</td>\n",
              "    </tr>\n",
              "    <tr>\n",
              "      <th>4347</th>\n",
              "      <td>3068.0</td>\n",
              "      <td>11172.345373</td>\n",
              "    </tr>\n",
              "    <tr>\n",
              "      <th>4455</th>\n",
              "      <td>2453.0</td>\n",
              "      <td>11163.150812</td>\n",
              "    </tr>\n",
              "    <tr>\n",
              "      <th>2668</th>\n",
              "      <td>5276.0</td>\n",
              "      <td>10345.071680</td>\n",
              "    </tr>\n",
              "    <tr>\n",
              "      <th>1082</th>\n",
              "      <td>4962.0</td>\n",
              "      <td>10318.002287</td>\n",
              "    </tr>\n",
              "  </tbody>\n",
              "</table>\n",
              "</div>\n",
              "      <button class=\"colab-df-convert\" onclick=\"convertToInteractive('df-08fc2c27-fd1a-4be1-964d-bbd5d9bf8317')\"\n",
              "              title=\"Convert this dataframe to an interactive table.\"\n",
              "              style=\"display:none;\">\n",
              "        \n",
              "  <svg xmlns=\"http://www.w3.org/2000/svg\" height=\"24px\"viewBox=\"0 0 24 24\"\n",
              "       width=\"24px\">\n",
              "    <path d=\"M0 0h24v24H0V0z\" fill=\"none\"/>\n",
              "    <path d=\"M18.56 5.44l.94 2.06.94-2.06 2.06-.94-2.06-.94-.94-2.06-.94 2.06-2.06.94zm-11 1L8.5 8.5l.94-2.06 2.06-.94-2.06-.94L8.5 2.5l-.94 2.06-2.06.94zm10 10l.94 2.06.94-2.06 2.06-.94-2.06-.94-.94-2.06-.94 2.06-2.06.94z\"/><path d=\"M17.41 7.96l-1.37-1.37c-.4-.4-.92-.59-1.43-.59-.52 0-1.04.2-1.43.59L10.3 9.45l-7.72 7.72c-.78.78-.78 2.05 0 2.83L4 21.41c.39.39.9.59 1.41.59.51 0 1.02-.2 1.41-.59l7.78-7.78 2.81-2.81c.8-.78.8-2.07 0-2.86zM5.41 20L4 18.59l7.72-7.72 1.47 1.35L5.41 20z\"/>\n",
              "  </svg>\n",
              "      </button>\n",
              "      \n",
              "  <style>\n",
              "    .colab-df-container {\n",
              "      display:flex;\n",
              "      flex-wrap:wrap;\n",
              "      gap: 12px;\n",
              "    }\n",
              "\n",
              "    .colab-df-convert {\n",
              "      background-color: #E8F0FE;\n",
              "      border: none;\n",
              "      border-radius: 50%;\n",
              "      cursor: pointer;\n",
              "      display: none;\n",
              "      fill: #1967D2;\n",
              "      height: 32px;\n",
              "      padding: 0 0 0 0;\n",
              "      width: 32px;\n",
              "    }\n",
              "\n",
              "    .colab-df-convert:hover {\n",
              "      background-color: #E2EBFA;\n",
              "      box-shadow: 0px 1px 2px rgba(60, 64, 67, 0.3), 0px 1px 3px 1px rgba(60, 64, 67, 0.15);\n",
              "      fill: #174EA6;\n",
              "    }\n",
              "\n",
              "    [theme=dark] .colab-df-convert {\n",
              "      background-color: #3B4455;\n",
              "      fill: #D2E3FC;\n",
              "    }\n",
              "\n",
              "    [theme=dark] .colab-df-convert:hover {\n",
              "      background-color: #434B5C;\n",
              "      box-shadow: 0px 1px 3px 1px rgba(0, 0, 0, 0.15);\n",
              "      filter: drop-shadow(0px 1px 2px rgba(0, 0, 0, 0.3));\n",
              "      fill: #FFFFFF;\n",
              "    }\n",
              "  </style>\n",
              "\n",
              "      <script>\n",
              "        const buttonEl =\n",
              "          document.querySelector('#df-08fc2c27-fd1a-4be1-964d-bbd5d9bf8317 button.colab-df-convert');\n",
              "        buttonEl.style.display =\n",
              "          google.colab.kernel.accessAllowed ? 'block' : 'none';\n",
              "\n",
              "        async function convertToInteractive(key) {\n",
              "          const element = document.querySelector('#df-08fc2c27-fd1a-4be1-964d-bbd5d9bf8317');\n",
              "          const dataTable =\n",
              "            await google.colab.kernel.invokeFunction('convertToInteractive',\n",
              "                                                     [key], {});\n",
              "          if (!dataTable) return;\n",
              "\n",
              "          const docLinkHtml = 'Like what you see? Visit the ' +\n",
              "            '<a target=\"_blank\" href=https://colab.research.google.com/notebooks/data_table.ipynb>data table notebook</a>'\n",
              "            + ' to learn more about interactive tables.';\n",
              "          element.innerHTML = '';\n",
              "          dataTable['output_type'] = 'display_data';\n",
              "          await google.colab.output.renderOutput(dataTable, element);\n",
              "          const docLink = document.createElement('div');\n",
              "          docLink.innerHTML = docLinkHtml;\n",
              "          element.appendChild(docLink);\n",
              "        }\n",
              "      </script>\n",
              "    </div>\n",
              "  </div>\n",
              "  "
            ]
          },
          "metadata": {},
          "execution_count": 16
        }
      ]
    },
    {
      "cell_type": "markdown",
      "metadata": {
        "id": "rSvkjsENW94V"
      },
      "source": [
        "d)\t**MANIPULAÇÃO 4**: Exibir na tela uma LISTA: código e total de compras dos **5 MAIORES compradores POR GRUPO** deste site online."
      ]
    },
    {
      "cell_type": "code",
      "source": [
        "setBronze = dataset[clientesBronzes,:]\n",
        "df = pandas.DataFrame(setBronze, columns = ['COD', 'Valor'])\n",
        "top5 = df.sort_values(by='Valor', ascending = False).head(5)\n",
        "top5"
      ],
      "metadata": {
        "id": "EUapHcEzHhKh",
        "outputId": "a6092aca-26dc-4311-8962-2219e0f1429f",
        "colab": {
          "base_uri": "https://localhost:8080/",
          "height": 206
        }
      },
      "execution_count": null,
      "outputs": [
        {
          "output_type": "execute_result",
          "data": {
            "text/plain": [
              "         COD      Valor\n",
              "2410  8048.0  99.659189\n",
              "1638  6201.0  99.646738\n",
              "1774  9506.0  96.591394\n",
              "1748  8944.0  95.998523\n",
              "2046  2830.0  95.836288"
            ],
            "text/html": [
              "\n",
              "  <div id=\"df-9ed3d0b9-2988-4c02-b7ce-2f8012e7ae78\">\n",
              "    <div class=\"colab-df-container\">\n",
              "      <div>\n",
              "<style scoped>\n",
              "    .dataframe tbody tr th:only-of-type {\n",
              "        vertical-align: middle;\n",
              "    }\n",
              "\n",
              "    .dataframe tbody tr th {\n",
              "        vertical-align: top;\n",
              "    }\n",
              "\n",
              "    .dataframe thead th {\n",
              "        text-align: right;\n",
              "    }\n",
              "</style>\n",
              "<table border=\"1\" class=\"dataframe\">\n",
              "  <thead>\n",
              "    <tr style=\"text-align: right;\">\n",
              "      <th></th>\n",
              "      <th>COD</th>\n",
              "      <th>Valor</th>\n",
              "    </tr>\n",
              "  </thead>\n",
              "  <tbody>\n",
              "    <tr>\n",
              "      <th>2410</th>\n",
              "      <td>8048.0</td>\n",
              "      <td>99.659189</td>\n",
              "    </tr>\n",
              "    <tr>\n",
              "      <th>1638</th>\n",
              "      <td>6201.0</td>\n",
              "      <td>99.646738</td>\n",
              "    </tr>\n",
              "    <tr>\n",
              "      <th>1774</th>\n",
              "      <td>9506.0</td>\n",
              "      <td>96.591394</td>\n",
              "    </tr>\n",
              "    <tr>\n",
              "      <th>1748</th>\n",
              "      <td>8944.0</td>\n",
              "      <td>95.998523</td>\n",
              "    </tr>\n",
              "    <tr>\n",
              "      <th>2046</th>\n",
              "      <td>2830.0</td>\n",
              "      <td>95.836288</td>\n",
              "    </tr>\n",
              "  </tbody>\n",
              "</table>\n",
              "</div>\n",
              "      <button class=\"colab-df-convert\" onclick=\"convertToInteractive('df-9ed3d0b9-2988-4c02-b7ce-2f8012e7ae78')\"\n",
              "              title=\"Convert this dataframe to an interactive table.\"\n",
              "              style=\"display:none;\">\n",
              "        \n",
              "  <svg xmlns=\"http://www.w3.org/2000/svg\" height=\"24px\"viewBox=\"0 0 24 24\"\n",
              "       width=\"24px\">\n",
              "    <path d=\"M0 0h24v24H0V0z\" fill=\"none\"/>\n",
              "    <path d=\"M18.56 5.44l.94 2.06.94-2.06 2.06-.94-2.06-.94-.94-2.06-.94 2.06-2.06.94zm-11 1L8.5 8.5l.94-2.06 2.06-.94-2.06-.94L8.5 2.5l-.94 2.06-2.06.94zm10 10l.94 2.06.94-2.06 2.06-.94-2.06-.94-.94-2.06-.94 2.06-2.06.94z\"/><path d=\"M17.41 7.96l-1.37-1.37c-.4-.4-.92-.59-1.43-.59-.52 0-1.04.2-1.43.59L10.3 9.45l-7.72 7.72c-.78.78-.78 2.05 0 2.83L4 21.41c.39.39.9.59 1.41.59.51 0 1.02-.2 1.41-.59l7.78-7.78 2.81-2.81c.8-.78.8-2.07 0-2.86zM5.41 20L4 18.59l7.72-7.72 1.47 1.35L5.41 20z\"/>\n",
              "  </svg>\n",
              "      </button>\n",
              "      \n",
              "  <style>\n",
              "    .colab-df-container {\n",
              "      display:flex;\n",
              "      flex-wrap:wrap;\n",
              "      gap: 12px;\n",
              "    }\n",
              "\n",
              "    .colab-df-convert {\n",
              "      background-color: #E8F0FE;\n",
              "      border: none;\n",
              "      border-radius: 50%;\n",
              "      cursor: pointer;\n",
              "      display: none;\n",
              "      fill: #1967D2;\n",
              "      height: 32px;\n",
              "      padding: 0 0 0 0;\n",
              "      width: 32px;\n",
              "    }\n",
              "\n",
              "    .colab-df-convert:hover {\n",
              "      background-color: #E2EBFA;\n",
              "      box-shadow: 0px 1px 2px rgba(60, 64, 67, 0.3), 0px 1px 3px 1px rgba(60, 64, 67, 0.15);\n",
              "      fill: #174EA6;\n",
              "    }\n",
              "\n",
              "    [theme=dark] .colab-df-convert {\n",
              "      background-color: #3B4455;\n",
              "      fill: #D2E3FC;\n",
              "    }\n",
              "\n",
              "    [theme=dark] .colab-df-convert:hover {\n",
              "      background-color: #434B5C;\n",
              "      box-shadow: 0px 1px 3px 1px rgba(0, 0, 0, 0.15);\n",
              "      filter: drop-shadow(0px 1px 2px rgba(0, 0, 0, 0.3));\n",
              "      fill: #FFFFFF;\n",
              "    }\n",
              "  </style>\n",
              "\n",
              "      <script>\n",
              "        const buttonEl =\n",
              "          document.querySelector('#df-9ed3d0b9-2988-4c02-b7ce-2f8012e7ae78 button.colab-df-convert');\n",
              "        buttonEl.style.display =\n",
              "          google.colab.kernel.accessAllowed ? 'block' : 'none';\n",
              "\n",
              "        async function convertToInteractive(key) {\n",
              "          const element = document.querySelector('#df-9ed3d0b9-2988-4c02-b7ce-2f8012e7ae78');\n",
              "          const dataTable =\n",
              "            await google.colab.kernel.invokeFunction('convertToInteractive',\n",
              "                                                     [key], {});\n",
              "          if (!dataTable) return;\n",
              "\n",
              "          const docLinkHtml = 'Like what you see? Visit the ' +\n",
              "            '<a target=\"_blank\" href=https://colab.research.google.com/notebooks/data_table.ipynb>data table notebook</a>'\n",
              "            + ' to learn more about interactive tables.';\n",
              "          element.innerHTML = '';\n",
              "          dataTable['output_type'] = 'display_data';\n",
              "          await google.colab.output.renderOutput(dataTable, element);\n",
              "          const docLink = document.createElement('div');\n",
              "          docLink.innerHTML = docLinkHtml;\n",
              "          element.appendChild(docLink);\n",
              "        }\n",
              "      </script>\n",
              "    </div>\n",
              "  </div>\n",
              "  "
            ]
          },
          "metadata": {},
          "execution_count": 17
        }
      ]
    },
    {
      "cell_type": "code",
      "source": [
        "setPrata = dataset[clientesPrata,:]\n",
        "df = pandas.DataFrame(setPrata, columns = ['COD', 'Valor'])\n",
        "top5 = df.sort_values(by='Valor', ascending = False).head(5)\n",
        "top5"
      ],
      "metadata": {
        "id": "zl7OlUokHhBK",
        "outputId": "92447da5-45f7-4123-c4ef-90aeffcc017a",
        "colab": {
          "base_uri": "https://localhost:8080/",
          "height": 206
        }
      },
      "execution_count": null,
      "outputs": [
        {
          "output_type": "execute_result",
          "data": {
            "text/plain": [
              "        COD       Valor\n",
              "194  8585.0  497.606833\n",
              "105  8624.0  497.186069\n",
              "42   2046.0  495.317337\n",
              "124  8902.0  495.239629\n",
              "100  6257.0  494.619731"
            ],
            "text/html": [
              "\n",
              "  <div id=\"df-81d0a252-a9de-4fa0-a1e2-a56597133514\">\n",
              "    <div class=\"colab-df-container\">\n",
              "      <div>\n",
              "<style scoped>\n",
              "    .dataframe tbody tr th:only-of-type {\n",
              "        vertical-align: middle;\n",
              "    }\n",
              "\n",
              "    .dataframe tbody tr th {\n",
              "        vertical-align: top;\n",
              "    }\n",
              "\n",
              "    .dataframe thead th {\n",
              "        text-align: right;\n",
              "    }\n",
              "</style>\n",
              "<table border=\"1\" class=\"dataframe\">\n",
              "  <thead>\n",
              "    <tr style=\"text-align: right;\">\n",
              "      <th></th>\n",
              "      <th>COD</th>\n",
              "      <th>Valor</th>\n",
              "    </tr>\n",
              "  </thead>\n",
              "  <tbody>\n",
              "    <tr>\n",
              "      <th>194</th>\n",
              "      <td>8585.0</td>\n",
              "      <td>497.606833</td>\n",
              "    </tr>\n",
              "    <tr>\n",
              "      <th>105</th>\n",
              "      <td>8624.0</td>\n",
              "      <td>497.186069</td>\n",
              "    </tr>\n",
              "    <tr>\n",
              "      <th>42</th>\n",
              "      <td>2046.0</td>\n",
              "      <td>495.317337</td>\n",
              "    </tr>\n",
              "    <tr>\n",
              "      <th>124</th>\n",
              "      <td>8902.0</td>\n",
              "      <td>495.239629</td>\n",
              "    </tr>\n",
              "    <tr>\n",
              "      <th>100</th>\n",
              "      <td>6257.0</td>\n",
              "      <td>494.619731</td>\n",
              "    </tr>\n",
              "  </tbody>\n",
              "</table>\n",
              "</div>\n",
              "      <button class=\"colab-df-convert\" onclick=\"convertToInteractive('df-81d0a252-a9de-4fa0-a1e2-a56597133514')\"\n",
              "              title=\"Convert this dataframe to an interactive table.\"\n",
              "              style=\"display:none;\">\n",
              "        \n",
              "  <svg xmlns=\"http://www.w3.org/2000/svg\" height=\"24px\"viewBox=\"0 0 24 24\"\n",
              "       width=\"24px\">\n",
              "    <path d=\"M0 0h24v24H0V0z\" fill=\"none\"/>\n",
              "    <path d=\"M18.56 5.44l.94 2.06.94-2.06 2.06-.94-2.06-.94-.94-2.06-.94 2.06-2.06.94zm-11 1L8.5 8.5l.94-2.06 2.06-.94-2.06-.94L8.5 2.5l-.94 2.06-2.06.94zm10 10l.94 2.06.94-2.06 2.06-.94-2.06-.94-.94-2.06-.94 2.06-2.06.94z\"/><path d=\"M17.41 7.96l-1.37-1.37c-.4-.4-.92-.59-1.43-.59-.52 0-1.04.2-1.43.59L10.3 9.45l-7.72 7.72c-.78.78-.78 2.05 0 2.83L4 21.41c.39.39.9.59 1.41.59.51 0 1.02-.2 1.41-.59l7.78-7.78 2.81-2.81c.8-.78.8-2.07 0-2.86zM5.41 20L4 18.59l7.72-7.72 1.47 1.35L5.41 20z\"/>\n",
              "  </svg>\n",
              "      </button>\n",
              "      \n",
              "  <style>\n",
              "    .colab-df-container {\n",
              "      display:flex;\n",
              "      flex-wrap:wrap;\n",
              "      gap: 12px;\n",
              "    }\n",
              "\n",
              "    .colab-df-convert {\n",
              "      background-color: #E8F0FE;\n",
              "      border: none;\n",
              "      border-radius: 50%;\n",
              "      cursor: pointer;\n",
              "      display: none;\n",
              "      fill: #1967D2;\n",
              "      height: 32px;\n",
              "      padding: 0 0 0 0;\n",
              "      width: 32px;\n",
              "    }\n",
              "\n",
              "    .colab-df-convert:hover {\n",
              "      background-color: #E2EBFA;\n",
              "      box-shadow: 0px 1px 2px rgba(60, 64, 67, 0.3), 0px 1px 3px 1px rgba(60, 64, 67, 0.15);\n",
              "      fill: #174EA6;\n",
              "    }\n",
              "\n",
              "    [theme=dark] .colab-df-convert {\n",
              "      background-color: #3B4455;\n",
              "      fill: #D2E3FC;\n",
              "    }\n",
              "\n",
              "    [theme=dark] .colab-df-convert:hover {\n",
              "      background-color: #434B5C;\n",
              "      box-shadow: 0px 1px 3px 1px rgba(0, 0, 0, 0.15);\n",
              "      filter: drop-shadow(0px 1px 2px rgba(0, 0, 0, 0.3));\n",
              "      fill: #FFFFFF;\n",
              "    }\n",
              "  </style>\n",
              "\n",
              "      <script>\n",
              "        const buttonEl =\n",
              "          document.querySelector('#df-81d0a252-a9de-4fa0-a1e2-a56597133514 button.colab-df-convert');\n",
              "        buttonEl.style.display =\n",
              "          google.colab.kernel.accessAllowed ? 'block' : 'none';\n",
              "\n",
              "        async function convertToInteractive(key) {\n",
              "          const element = document.querySelector('#df-81d0a252-a9de-4fa0-a1e2-a56597133514');\n",
              "          const dataTable =\n",
              "            await google.colab.kernel.invokeFunction('convertToInteractive',\n",
              "                                                     [key], {});\n",
              "          if (!dataTable) return;\n",
              "\n",
              "          const docLinkHtml = 'Like what you see? Visit the ' +\n",
              "            '<a target=\"_blank\" href=https://colab.research.google.com/notebooks/data_table.ipynb>data table notebook</a>'\n",
              "            + ' to learn more about interactive tables.';\n",
              "          element.innerHTML = '';\n",
              "          dataTable['output_type'] = 'display_data';\n",
              "          await google.colab.output.renderOutput(dataTable, element);\n",
              "          const docLink = document.createElement('div');\n",
              "          docLink.innerHTML = docLinkHtml;\n",
              "          element.appendChild(docLink);\n",
              "        }\n",
              "      </script>\n",
              "    </div>\n",
              "  </div>\n",
              "  "
            ]
          },
          "metadata": {},
          "execution_count": 18
        }
      ]
    },
    {
      "cell_type": "code",
      "source": [
        "setOuro = dataset[clientesOuro,:]\n",
        "df = pandas.DataFrame(setOuro, columns = ['COD', 'Valor'])\n",
        "top5 = df.sort_values(by='Valor', ascending = False).head(5)\n",
        "top5"
      ],
      "metadata": {
        "id": "pLF6haoTHgyR",
        "outputId": "be23c9d2-b844-419f-9cf6-37d128d114c0",
        "colab": {
          "base_uri": "https://localhost:8080/",
          "height": 206
        }
      },
      "execution_count": null,
      "outputs": [
        {
          "output_type": "execute_result",
          "data": {
            "text/plain": [
              "        COD       Valor\n",
              "46   3151.0  997.875109\n",
              "556  5617.0  997.279450\n",
              "332  4210.0  994.854815\n",
              "1    6891.0  994.241228\n",
              "326  5475.0  994.043645"
            ],
            "text/html": [
              "\n",
              "  <div id=\"df-3bbc474d-a2e4-4cf7-aa85-df647ddecce5\">\n",
              "    <div class=\"colab-df-container\">\n",
              "      <div>\n",
              "<style scoped>\n",
              "    .dataframe tbody tr th:only-of-type {\n",
              "        vertical-align: middle;\n",
              "    }\n",
              "\n",
              "    .dataframe tbody tr th {\n",
              "        vertical-align: top;\n",
              "    }\n",
              "\n",
              "    .dataframe thead th {\n",
              "        text-align: right;\n",
              "    }\n",
              "</style>\n",
              "<table border=\"1\" class=\"dataframe\">\n",
              "  <thead>\n",
              "    <tr style=\"text-align: right;\">\n",
              "      <th></th>\n",
              "      <th>COD</th>\n",
              "      <th>Valor</th>\n",
              "    </tr>\n",
              "  </thead>\n",
              "  <tbody>\n",
              "    <tr>\n",
              "      <th>46</th>\n",
              "      <td>3151.0</td>\n",
              "      <td>997.875109</td>\n",
              "    </tr>\n",
              "    <tr>\n",
              "      <th>556</th>\n",
              "      <td>5617.0</td>\n",
              "      <td>997.279450</td>\n",
              "    </tr>\n",
              "    <tr>\n",
              "      <th>332</th>\n",
              "      <td>4210.0</td>\n",
              "      <td>994.854815</td>\n",
              "    </tr>\n",
              "    <tr>\n",
              "      <th>1</th>\n",
              "      <td>6891.0</td>\n",
              "      <td>994.241228</td>\n",
              "    </tr>\n",
              "    <tr>\n",
              "      <th>326</th>\n",
              "      <td>5475.0</td>\n",
              "      <td>994.043645</td>\n",
              "    </tr>\n",
              "  </tbody>\n",
              "</table>\n",
              "</div>\n",
              "      <button class=\"colab-df-convert\" onclick=\"convertToInteractive('df-3bbc474d-a2e4-4cf7-aa85-df647ddecce5')\"\n",
              "              title=\"Convert this dataframe to an interactive table.\"\n",
              "              style=\"display:none;\">\n",
              "        \n",
              "  <svg xmlns=\"http://www.w3.org/2000/svg\" height=\"24px\"viewBox=\"0 0 24 24\"\n",
              "       width=\"24px\">\n",
              "    <path d=\"M0 0h24v24H0V0z\" fill=\"none\"/>\n",
              "    <path d=\"M18.56 5.44l.94 2.06.94-2.06 2.06-.94-2.06-.94-.94-2.06-.94 2.06-2.06.94zm-11 1L8.5 8.5l.94-2.06 2.06-.94-2.06-.94L8.5 2.5l-.94 2.06-2.06.94zm10 10l.94 2.06.94-2.06 2.06-.94-2.06-.94-.94-2.06-.94 2.06-2.06.94z\"/><path d=\"M17.41 7.96l-1.37-1.37c-.4-.4-.92-.59-1.43-.59-.52 0-1.04.2-1.43.59L10.3 9.45l-7.72 7.72c-.78.78-.78 2.05 0 2.83L4 21.41c.39.39.9.59 1.41.59.51 0 1.02-.2 1.41-.59l7.78-7.78 2.81-2.81c.8-.78.8-2.07 0-2.86zM5.41 20L4 18.59l7.72-7.72 1.47 1.35L5.41 20z\"/>\n",
              "  </svg>\n",
              "      </button>\n",
              "      \n",
              "  <style>\n",
              "    .colab-df-container {\n",
              "      display:flex;\n",
              "      flex-wrap:wrap;\n",
              "      gap: 12px;\n",
              "    }\n",
              "\n",
              "    .colab-df-convert {\n",
              "      background-color: #E8F0FE;\n",
              "      border: none;\n",
              "      border-radius: 50%;\n",
              "      cursor: pointer;\n",
              "      display: none;\n",
              "      fill: #1967D2;\n",
              "      height: 32px;\n",
              "      padding: 0 0 0 0;\n",
              "      width: 32px;\n",
              "    }\n",
              "\n",
              "    .colab-df-convert:hover {\n",
              "      background-color: #E2EBFA;\n",
              "      box-shadow: 0px 1px 2px rgba(60, 64, 67, 0.3), 0px 1px 3px 1px rgba(60, 64, 67, 0.15);\n",
              "      fill: #174EA6;\n",
              "    }\n",
              "\n",
              "    [theme=dark] .colab-df-convert {\n",
              "      background-color: #3B4455;\n",
              "      fill: #D2E3FC;\n",
              "    }\n",
              "\n",
              "    [theme=dark] .colab-df-convert:hover {\n",
              "      background-color: #434B5C;\n",
              "      box-shadow: 0px 1px 3px 1px rgba(0, 0, 0, 0.15);\n",
              "      filter: drop-shadow(0px 1px 2px rgba(0, 0, 0, 0.3));\n",
              "      fill: #FFFFFF;\n",
              "    }\n",
              "  </style>\n",
              "\n",
              "      <script>\n",
              "        const buttonEl =\n",
              "          document.querySelector('#df-3bbc474d-a2e4-4cf7-aa85-df647ddecce5 button.colab-df-convert');\n",
              "        buttonEl.style.display =\n",
              "          google.colab.kernel.accessAllowed ? 'block' : 'none';\n",
              "\n",
              "        async function convertToInteractive(key) {\n",
              "          const element = document.querySelector('#df-3bbc474d-a2e4-4cf7-aa85-df647ddecce5');\n",
              "          const dataTable =\n",
              "            await google.colab.kernel.invokeFunction('convertToInteractive',\n",
              "                                                     [key], {});\n",
              "          if (!dataTable) return;\n",
              "\n",
              "          const docLinkHtml = 'Like what you see? Visit the ' +\n",
              "            '<a target=\"_blank\" href=https://colab.research.google.com/notebooks/data_table.ipynb>data table notebook</a>'\n",
              "            + ' to learn more about interactive tables.';\n",
              "          element.innerHTML = '';\n",
              "          dataTable['output_type'] = 'display_data';\n",
              "          await google.colab.output.renderOutput(dataTable, element);\n",
              "          const docLink = document.createElement('div');\n",
              "          docLink.innerHTML = docLinkHtml;\n",
              "          element.appendChild(docLink);\n",
              "        }\n",
              "      </script>\n",
              "    </div>\n",
              "  </div>\n",
              "  "
            ]
          },
          "metadata": {},
          "execution_count": 19
        }
      ]
    },
    {
      "cell_type": "code",
      "source": [
        "setPlatina = dataset[clientesPlatina,:]\n",
        "df = pandas.DataFrame(setPlatina, columns = ['COD', 'Valor'])\n",
        "top5 = df.sort_values(by='Valor', ascending = False).head(5)\n",
        "top5"
      ],
      "metadata": {
        "id": "sz_ONKLQHgJ6",
        "outputId": "bd6fcb56-9922-400e-d34c-cf168132259a",
        "colab": {
          "base_uri": "https://localhost:8080/",
          "height": 206
        }
      },
      "execution_count": null,
      "outputs": [
        {
          "output_type": "execute_result",
          "data": {
            "text/plain": [
              "         COD         Valor\n",
              "954   6903.0  11947.516458\n",
              "2213  3068.0  11172.345373\n",
              "2264  2453.0  11163.150812\n",
              "1389  5276.0  10345.071680\n",
              "594   4962.0  10318.002287"
            ],
            "text/html": [
              "\n",
              "  <div id=\"df-8269fe5c-eabe-4ccc-817c-fedf5b5cc6cf\">\n",
              "    <div class=\"colab-df-container\">\n",
              "      <div>\n",
              "<style scoped>\n",
              "    .dataframe tbody tr th:only-of-type {\n",
              "        vertical-align: middle;\n",
              "    }\n",
              "\n",
              "    .dataframe tbody tr th {\n",
              "        vertical-align: top;\n",
              "    }\n",
              "\n",
              "    .dataframe thead th {\n",
              "        text-align: right;\n",
              "    }\n",
              "</style>\n",
              "<table border=\"1\" class=\"dataframe\">\n",
              "  <thead>\n",
              "    <tr style=\"text-align: right;\">\n",
              "      <th></th>\n",
              "      <th>COD</th>\n",
              "      <th>Valor</th>\n",
              "    </tr>\n",
              "  </thead>\n",
              "  <tbody>\n",
              "    <tr>\n",
              "      <th>954</th>\n",
              "      <td>6903.0</td>\n",
              "      <td>11947.516458</td>\n",
              "    </tr>\n",
              "    <tr>\n",
              "      <th>2213</th>\n",
              "      <td>3068.0</td>\n",
              "      <td>11172.345373</td>\n",
              "    </tr>\n",
              "    <tr>\n",
              "      <th>2264</th>\n",
              "      <td>2453.0</td>\n",
              "      <td>11163.150812</td>\n",
              "    </tr>\n",
              "    <tr>\n",
              "      <th>1389</th>\n",
              "      <td>5276.0</td>\n",
              "      <td>10345.071680</td>\n",
              "    </tr>\n",
              "    <tr>\n",
              "      <th>594</th>\n",
              "      <td>4962.0</td>\n",
              "      <td>10318.002287</td>\n",
              "    </tr>\n",
              "  </tbody>\n",
              "</table>\n",
              "</div>\n",
              "      <button class=\"colab-df-convert\" onclick=\"convertToInteractive('df-8269fe5c-eabe-4ccc-817c-fedf5b5cc6cf')\"\n",
              "              title=\"Convert this dataframe to an interactive table.\"\n",
              "              style=\"display:none;\">\n",
              "        \n",
              "  <svg xmlns=\"http://www.w3.org/2000/svg\" height=\"24px\"viewBox=\"0 0 24 24\"\n",
              "       width=\"24px\">\n",
              "    <path d=\"M0 0h24v24H0V0z\" fill=\"none\"/>\n",
              "    <path d=\"M18.56 5.44l.94 2.06.94-2.06 2.06-.94-2.06-.94-.94-2.06-.94 2.06-2.06.94zm-11 1L8.5 8.5l.94-2.06 2.06-.94-2.06-.94L8.5 2.5l-.94 2.06-2.06.94zm10 10l.94 2.06.94-2.06 2.06-.94-2.06-.94-.94-2.06-.94 2.06-2.06.94z\"/><path d=\"M17.41 7.96l-1.37-1.37c-.4-.4-.92-.59-1.43-.59-.52 0-1.04.2-1.43.59L10.3 9.45l-7.72 7.72c-.78.78-.78 2.05 0 2.83L4 21.41c.39.39.9.59 1.41.59.51 0 1.02-.2 1.41-.59l7.78-7.78 2.81-2.81c.8-.78.8-2.07 0-2.86zM5.41 20L4 18.59l7.72-7.72 1.47 1.35L5.41 20z\"/>\n",
              "  </svg>\n",
              "      </button>\n",
              "      \n",
              "  <style>\n",
              "    .colab-df-container {\n",
              "      display:flex;\n",
              "      flex-wrap:wrap;\n",
              "      gap: 12px;\n",
              "    }\n",
              "\n",
              "    .colab-df-convert {\n",
              "      background-color: #E8F0FE;\n",
              "      border: none;\n",
              "      border-radius: 50%;\n",
              "      cursor: pointer;\n",
              "      display: none;\n",
              "      fill: #1967D2;\n",
              "      height: 32px;\n",
              "      padding: 0 0 0 0;\n",
              "      width: 32px;\n",
              "    }\n",
              "\n",
              "    .colab-df-convert:hover {\n",
              "      background-color: #E2EBFA;\n",
              "      box-shadow: 0px 1px 2px rgba(60, 64, 67, 0.3), 0px 1px 3px 1px rgba(60, 64, 67, 0.15);\n",
              "      fill: #174EA6;\n",
              "    }\n",
              "\n",
              "    [theme=dark] .colab-df-convert {\n",
              "      background-color: #3B4455;\n",
              "      fill: #D2E3FC;\n",
              "    }\n",
              "\n",
              "    [theme=dark] .colab-df-convert:hover {\n",
              "      background-color: #434B5C;\n",
              "      box-shadow: 0px 1px 3px 1px rgba(0, 0, 0, 0.15);\n",
              "      filter: drop-shadow(0px 1px 2px rgba(0, 0, 0, 0.3));\n",
              "      fill: #FFFFFF;\n",
              "    }\n",
              "  </style>\n",
              "\n",
              "      <script>\n",
              "        const buttonEl =\n",
              "          document.querySelector('#df-8269fe5c-eabe-4ccc-817c-fedf5b5cc6cf button.colab-df-convert');\n",
              "        buttonEl.style.display =\n",
              "          google.colab.kernel.accessAllowed ? 'block' : 'none';\n",
              "\n",
              "        async function convertToInteractive(key) {\n",
              "          const element = document.querySelector('#df-8269fe5c-eabe-4ccc-817c-fedf5b5cc6cf');\n",
              "          const dataTable =\n",
              "            await google.colab.kernel.invokeFunction('convertToInteractive',\n",
              "                                                     [key], {});\n",
              "          if (!dataTable) return;\n",
              "\n",
              "          const docLinkHtml = 'Like what you see? Visit the ' +\n",
              "            '<a target=\"_blank\" href=https://colab.research.google.com/notebooks/data_table.ipynb>data table notebook</a>'\n",
              "            + ' to learn more about interactive tables.';\n",
              "          element.innerHTML = '';\n",
              "          dataTable['output_type'] = 'display_data';\n",
              "          await google.colab.output.renderOutput(dataTable, element);\n",
              "          const docLink = document.createElement('div');\n",
              "          docLink.innerHTML = docLinkHtml;\n",
              "          element.appendChild(docLink);\n",
              "        }\n",
              "      </script>\n",
              "    </div>\n",
              "  </div>\n",
              "  "
            ]
          },
          "metadata": {},
          "execution_count": 20
        }
      ]
    },
    {
      "cell_type": "markdown",
      "source": [
        "**OBSERVAÇÃO IMPORTANTE:**\n",
        "\n",
        "**PARA ENTREGAR A ATIVIDADE:**\n",
        "\n",
        "OBRIGATÓRIO: Faça a impressão do seu **Notebook Colab (.ipynb) no formato PDF (Acrobat): .PDF** e faça o upload no AVA: AOP2.pdf."
      ],
      "metadata": {
        "id": "lCaUoDpOzLmF"
      }
    },
    {
      "cell_type": "markdown",
      "source": [
        "# New Section"
      ],
      "metadata": {
        "id": "DUjqOZpjQlDY"
      }
    },
    {
      "cell_type": "markdown",
      "source": [
        "#CONVERTER IPYNB para PDF"
      ],
      "metadata": {
        "id": "ITA9ZUhr8rxg"
      }
    },
    {
      "cell_type": "markdown",
      "source": [
        "PASSO A PASSO:\n",
        "\n",
        "1.   Fazer o download do seu IPYNB.\n",
        "2.   Fazer o upload do seu IPYNB para área temporária: content.\n",
        "3.   Rodar o código abaixo com seu NOME_DO_COLAB.ipynb: Gerar um HTML.\n",
        "4.   Fazer o download do seu HTML e abrir em um Browser qualquer.\n",
        "3.   Imprimir a página HTML em PDF. Pronto (UFA)::: 😅!"
      ],
      "metadata": {
        "id": "QpxI8bpW8syr"
      }
    },
    {
      "cell_type": "code",
      "source": [
        "%%shell\n",
        "jupyter nbconvert --to html /content/AOP2.ipynb"
      ],
      "metadata": {
        "id": "LnRaq5n78_0z",
        "colab": {
          "base_uri": "https://localhost:8080/"
        },
        "outputId": "6f708cb9-e289-4d86-f287-f6b81efee63f"
      },
      "execution_count": null,
      "outputs": [
        {
          "output_type": "stream",
          "name": "stdout",
          "text": [
            "[NbConvertApp] Converting notebook /content/AOP2.ipynb to html\n",
            "[NbConvertApp] Writing 354423 bytes to /content/AOP2.html\n"
          ]
        },
        {
          "output_type": "execute_result",
          "data": {
            "text/plain": []
          },
          "metadata": {},
          "execution_count": 21
        }
      ]
    },
    {
      "cell_type": "markdown",
      "source": [
        "**NÃO ENVIAR O ARQUIVO COLAB: .IPYNB**"
      ],
      "metadata": {
        "id": "Erbv98qXzkKv"
      }
    },
    {
      "cell_type": "markdown",
      "source": [
        "**FAÇA AQUI UM LINK PARA O PROFESSOR** (COMPARTILHADO COM TODOS): [Link para o professor!]()"
      ],
      "metadata": {
        "id": "7tL2fZ2fzmXF"
      }
    }
  ]
}