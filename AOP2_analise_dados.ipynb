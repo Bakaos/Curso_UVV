{
  "nbformat": 4,
  "nbformat_minor": 0,
  "metadata": {
    "colab": {
      "provenance": [],
      "include_colab_link": true
    },
    "kernelspec": {
      "name": "python3",
      "display_name": "Python 3"
    }
  },
  "cells": [
    {
      "cell_type": "markdown",
      "metadata": {
        "id": "view-in-github",
        "colab_type": "text"
      },
      "source": [
        "<a href=\"https://colab.research.google.com/github/Bakaos/Curso_UVV/blob/main/AOP2_analise_dados.ipynb\" target=\"_parent\"><img src=\"https://colab.research.google.com/assets/colab-badge.svg\" alt=\"Open In Colab\"/></a>"
      ]
    },
    {
      "cell_type": "markdown",
      "metadata": {
        "id": "G90zxY79qIXe"
      },
      "source": [
        "<?xml version=\"1.0\" encoding=\"UTF-8\"?>\n",
        "<html>\n",
        "  <body>\n",
        "    <header></header>\n",
        "        <CENTER>\n",
        "          <img src=\"https://www.uvv.br/wp-content/themes/uvvBr/templates/assets//img/logouvv.svg\" alt=\"UVV-LOGO\" style = width=\"100px\"; height=\"100px\">\n",
        "        </CENTER>\n",
        "        <CENTER><b>ANÁLISE DE DADOS</b></CENTER>\n",
        "        <CENTER><b>AOP2 - ATIVIDADE ONLINE PONTUADA 2</b></CENTER><br/>"
      ]
    },
    {
      "cell_type": "markdown",
      "source": [
        "**NOME COMPLETO: Hiran Alberto Hackbardt**\n"
      ],
      "metadata": {
        "id": "qDD2bNlhyUjX"
      }
    },
    {
      "cell_type": "markdown",
      "metadata": {
        "id": "yZfJjeQgqTo_"
      },
      "source": [
        "#ATIVIDADE ONLINE PONTUADA – AOP2"
      ]
    },
    {
      "cell_type": "markdown",
      "metadata": {
        "id": "jCVMq4d1XQZM"
      },
      "source": [
        "**Link do Arquivo table.csv**: [Clique Aqui!](https://drive.google.com/file/d/1mT9HM6oirjvuXZkFTZRQyFWRebX3fS3B/view?usp=sharing)"
      ]
    },
    {
      "cell_type": "markdown",
      "metadata": {
        "id": "fOrzULiQkEGJ"
      },
      "source": [
        "# Carregar o Dataset (arquivo)"
      ]
    },
    {
      "cell_type": "code",
      "metadata": {
        "id": "ykVY42T1OhX6"
      },
      "source": [
        "import pandas as pd\n",
        "import numpy as np\n",
        "import matplotlib.pyplot as plt\n",
        "from google.colab import files"
      ],
      "execution_count": null,
      "outputs": []
    },
    {
      "cell_type": "code",
      "metadata": {
        "id": "etNmpaCvUMVR",
        "colab": {
          "base_uri": "https://localhost:8080/",
          "height": 73
        },
        "outputId": "0d6423b0-339b-4a6b-83d7-e0157a42d5d8"
      },
      "source": [
        "#table = pd.read_csv('table.csv', index_col = 0)\n",
        "file = files.upload()\n",
        "table = pd.read_csv('/content/table.csv')"
      ],
      "execution_count": null,
      "outputs": [
        {
          "output_type": "display_data",
          "data": {
            "text/plain": [
              "<IPython.core.display.HTML object>"
            ],
            "text/html": [
              "\n",
              "     <input type=\"file\" id=\"files-2a537716-e137-4554-9774-b5c448a43fa2\" name=\"files[]\" multiple disabled\n",
              "        style=\"border:none\" />\n",
              "     <output id=\"result-2a537716-e137-4554-9774-b5c448a43fa2\">\n",
              "      Upload widget is only available when the cell has been executed in the\n",
              "      current browser session. Please rerun this cell to enable.\n",
              "      </output>\n",
              "      <script>// Copyright 2017 Google LLC\n",
              "//\n",
              "// Licensed under the Apache License, Version 2.0 (the \"License\");\n",
              "// you may not use this file except in compliance with the License.\n",
              "// You may obtain a copy of the License at\n",
              "//\n",
              "//      http://www.apache.org/licenses/LICENSE-2.0\n",
              "//\n",
              "// Unless required by applicable law or agreed to in writing, software\n",
              "// distributed under the License is distributed on an \"AS IS\" BASIS,\n",
              "// WITHOUT WARRANTIES OR CONDITIONS OF ANY KIND, either express or implied.\n",
              "// See the License for the specific language governing permissions and\n",
              "// limitations under the License.\n",
              "\n",
              "/**\n",
              " * @fileoverview Helpers for google.colab Python module.\n",
              " */\n",
              "(function(scope) {\n",
              "function span(text, styleAttributes = {}) {\n",
              "  const element = document.createElement('span');\n",
              "  element.textContent = text;\n",
              "  for (const key of Object.keys(styleAttributes)) {\n",
              "    element.style[key] = styleAttributes[key];\n",
              "  }\n",
              "  return element;\n",
              "}\n",
              "\n",
              "// Max number of bytes which will be uploaded at a time.\n",
              "const MAX_PAYLOAD_SIZE = 100 * 1024;\n",
              "\n",
              "function _uploadFiles(inputId, outputId) {\n",
              "  const steps = uploadFilesStep(inputId, outputId);\n",
              "  const outputElement = document.getElementById(outputId);\n",
              "  // Cache steps on the outputElement to make it available for the next call\n",
              "  // to uploadFilesContinue from Python.\n",
              "  outputElement.steps = steps;\n",
              "\n",
              "  return _uploadFilesContinue(outputId);\n",
              "}\n",
              "\n",
              "// This is roughly an async generator (not supported in the browser yet),\n",
              "// where there are multiple asynchronous steps and the Python side is going\n",
              "// to poll for completion of each step.\n",
              "// This uses a Promise to block the python side on completion of each step,\n",
              "// then passes the result of the previous step as the input to the next step.\n",
              "function _uploadFilesContinue(outputId) {\n",
              "  const outputElement = document.getElementById(outputId);\n",
              "  const steps = outputElement.steps;\n",
              "\n",
              "  const next = steps.next(outputElement.lastPromiseValue);\n",
              "  return Promise.resolve(next.value.promise).then((value) => {\n",
              "    // Cache the last promise value to make it available to the next\n",
              "    // step of the generator.\n",
              "    outputElement.lastPromiseValue = value;\n",
              "    return next.value.response;\n",
              "  });\n",
              "}\n",
              "\n",
              "/**\n",
              " * Generator function which is called between each async step of the upload\n",
              " * process.\n",
              " * @param {string} inputId Element ID of the input file picker element.\n",
              " * @param {string} outputId Element ID of the output display.\n",
              " * @return {!Iterable<!Object>} Iterable of next steps.\n",
              " */\n",
              "function* uploadFilesStep(inputId, outputId) {\n",
              "  const inputElement = document.getElementById(inputId);\n",
              "  inputElement.disabled = false;\n",
              "\n",
              "  const outputElement = document.getElementById(outputId);\n",
              "  outputElement.innerHTML = '';\n",
              "\n",
              "  const pickedPromise = new Promise((resolve) => {\n",
              "    inputElement.addEventListener('change', (e) => {\n",
              "      resolve(e.target.files);\n",
              "    });\n",
              "  });\n",
              "\n",
              "  const cancel = document.createElement('button');\n",
              "  inputElement.parentElement.appendChild(cancel);\n",
              "  cancel.textContent = 'Cancel upload';\n",
              "  const cancelPromise = new Promise((resolve) => {\n",
              "    cancel.onclick = () => {\n",
              "      resolve(null);\n",
              "    };\n",
              "  });\n",
              "\n",
              "  // Wait for the user to pick the files.\n",
              "  const files = yield {\n",
              "    promise: Promise.race([pickedPromise, cancelPromise]),\n",
              "    response: {\n",
              "      action: 'starting',\n",
              "    }\n",
              "  };\n",
              "\n",
              "  cancel.remove();\n",
              "\n",
              "  // Disable the input element since further picks are not allowed.\n",
              "  inputElement.disabled = true;\n",
              "\n",
              "  if (!files) {\n",
              "    return {\n",
              "      response: {\n",
              "        action: 'complete',\n",
              "      }\n",
              "    };\n",
              "  }\n",
              "\n",
              "  for (const file of files) {\n",
              "    const li = document.createElement('li');\n",
              "    li.append(span(file.name, {fontWeight: 'bold'}));\n",
              "    li.append(span(\n",
              "        `(${file.type || 'n/a'}) - ${file.size} bytes, ` +\n",
              "        `last modified: ${\n",
              "            file.lastModifiedDate ? file.lastModifiedDate.toLocaleDateString() :\n",
              "                                    'n/a'} - `));\n",
              "    const percent = span('0% done');\n",
              "    li.appendChild(percent);\n",
              "\n",
              "    outputElement.appendChild(li);\n",
              "\n",
              "    const fileDataPromise = new Promise((resolve) => {\n",
              "      const reader = new FileReader();\n",
              "      reader.onload = (e) => {\n",
              "        resolve(e.target.result);\n",
              "      };\n",
              "      reader.readAsArrayBuffer(file);\n",
              "    });\n",
              "    // Wait for the data to be ready.\n",
              "    let fileData = yield {\n",
              "      promise: fileDataPromise,\n",
              "      response: {\n",
              "        action: 'continue',\n",
              "      }\n",
              "    };\n",
              "\n",
              "    // Use a chunked sending to avoid message size limits. See b/62115660.\n",
              "    let position = 0;\n",
              "    do {\n",
              "      const length = Math.min(fileData.byteLength - position, MAX_PAYLOAD_SIZE);\n",
              "      const chunk = new Uint8Array(fileData, position, length);\n",
              "      position += length;\n",
              "\n",
              "      const base64 = btoa(String.fromCharCode.apply(null, chunk));\n",
              "      yield {\n",
              "        response: {\n",
              "          action: 'append',\n",
              "          file: file.name,\n",
              "          data: base64,\n",
              "        },\n",
              "      };\n",
              "\n",
              "      let percentDone = fileData.byteLength === 0 ?\n",
              "          100 :\n",
              "          Math.round((position / fileData.byteLength) * 100);\n",
              "      percent.textContent = `${percentDone}% done`;\n",
              "\n",
              "    } while (position < fileData.byteLength);\n",
              "  }\n",
              "\n",
              "  // All done.\n",
              "  yield {\n",
              "    response: {\n",
              "      action: 'complete',\n",
              "    }\n",
              "  };\n",
              "}\n",
              "\n",
              "scope.google = scope.google || {};\n",
              "scope.google.colab = scope.google.colab || {};\n",
              "scope.google.colab._files = {\n",
              "  _uploadFiles,\n",
              "  _uploadFilesContinue,\n",
              "};\n",
              "})(self);\n",
              "</script> "
            ]
          },
          "metadata": {}
        },
        {
          "output_type": "stream",
          "name": "stdout",
          "text": [
            "Saving table.csv to table (1).csv\n"
          ]
        }
      ]
    },
    {
      "cell_type": "code",
      "source": [
        "table"
      ],
      "metadata": {
        "colab": {
          "base_uri": "https://localhost:8080/",
          "height": 687
        },
        "id": "6HAs4lSwXhqk",
        "outputId": "941b46b3-9daa-495f-9ed3-59d9cd3e01e7"
      },
      "execution_count": null,
      "outputs": [
        {
          "output_type": "execute_result",
          "data": {
            "text/plain": [
              "      Unnamed: 0  CÓDIGO    REGIÃO       SEXO PAGAMENTO  TOTAL (R$)  \\\n",
              "0              0    5151  SULDESTE  MASCULINO    DÉBITO     6872.16   \n",
              "1              1    6604       SUL   FEMININO   CRÉDITO     5219.01   \n",
              "2              2    6539  SULDESTE  MASCULINO    DÉBITO     9945.68   \n",
              "3              3    6922  SULDESTE   FEMININO   CRÉDITO     9993.06   \n",
              "4              4    4546  SULDESTE  MASCULINO   CRÉDITO     5536.25   \n",
              "...          ...     ...       ...        ...       ...         ...   \n",
              "4995        4995    6361  SULDESTE   FEMININO   CRÉDITO     3835.72   \n",
              "4996        4996    4844  SULDESTE  MASCULINO   CRÉDITO     3760.53   \n",
              "4997        4997    3548  SULDESTE   FEMININO    DÉBITO     7868.17   \n",
              "4998        4998    2138  SULDESTE  MASCULINO   CRÉDITO     9317.38   \n",
              "4999        4999    3508  SULDESTE  MASCULINO   CRÉDITO     3004.51   \n",
              "\n",
              "      Category_Num  \n",
              "0                2  \n",
              "1                1  \n",
              "2                2  \n",
              "3                1  \n",
              "4                2  \n",
              "...            ...  \n",
              "4995             1  \n",
              "4996             2  \n",
              "4997             1  \n",
              "4998             2  \n",
              "4999             2  \n",
              "\n",
              "[5000 rows x 7 columns]"
            ],
            "text/html": [
              "\n",
              "  <div id=\"df-3cc4457c-5227-431d-8b91-b2fae2d6e8cf\">\n",
              "    <div class=\"colab-df-container\">\n",
              "      <div>\n",
              "<style scoped>\n",
              "    .dataframe tbody tr th:only-of-type {\n",
              "        vertical-align: middle;\n",
              "    }\n",
              "\n",
              "    .dataframe tbody tr th {\n",
              "        vertical-align: top;\n",
              "    }\n",
              "\n",
              "    .dataframe thead th {\n",
              "        text-align: right;\n",
              "    }\n",
              "</style>\n",
              "<table border=\"1\" class=\"dataframe\">\n",
              "  <thead>\n",
              "    <tr style=\"text-align: right;\">\n",
              "      <th></th>\n",
              "      <th>Unnamed: 0</th>\n",
              "      <th>CÓDIGO</th>\n",
              "      <th>REGIÃO</th>\n",
              "      <th>SEXO</th>\n",
              "      <th>PAGAMENTO</th>\n",
              "      <th>TOTAL (R$)</th>\n",
              "      <th>Category_Num</th>\n",
              "    </tr>\n",
              "  </thead>\n",
              "  <tbody>\n",
              "    <tr>\n",
              "      <th>0</th>\n",
              "      <td>0</td>\n",
              "      <td>5151</td>\n",
              "      <td>SULDESTE</td>\n",
              "      <td>MASCULINO</td>\n",
              "      <td>DÉBITO</td>\n",
              "      <td>6872.16</td>\n",
              "      <td>2</td>\n",
              "    </tr>\n",
              "    <tr>\n",
              "      <th>1</th>\n",
              "      <td>1</td>\n",
              "      <td>6604</td>\n",
              "      <td>SUL</td>\n",
              "      <td>FEMININO</td>\n",
              "      <td>CRÉDITO</td>\n",
              "      <td>5219.01</td>\n",
              "      <td>1</td>\n",
              "    </tr>\n",
              "    <tr>\n",
              "      <th>2</th>\n",
              "      <td>2</td>\n",
              "      <td>6539</td>\n",
              "      <td>SULDESTE</td>\n",
              "      <td>MASCULINO</td>\n",
              "      <td>DÉBITO</td>\n",
              "      <td>9945.68</td>\n",
              "      <td>2</td>\n",
              "    </tr>\n",
              "    <tr>\n",
              "      <th>3</th>\n",
              "      <td>3</td>\n",
              "      <td>6922</td>\n",
              "      <td>SULDESTE</td>\n",
              "      <td>FEMININO</td>\n",
              "      <td>CRÉDITO</td>\n",
              "      <td>9993.06</td>\n",
              "      <td>1</td>\n",
              "    </tr>\n",
              "    <tr>\n",
              "      <th>4</th>\n",
              "      <td>4</td>\n",
              "      <td>4546</td>\n",
              "      <td>SULDESTE</td>\n",
              "      <td>MASCULINO</td>\n",
              "      <td>CRÉDITO</td>\n",
              "      <td>5536.25</td>\n",
              "      <td>2</td>\n",
              "    </tr>\n",
              "    <tr>\n",
              "      <th>...</th>\n",
              "      <td>...</td>\n",
              "      <td>...</td>\n",
              "      <td>...</td>\n",
              "      <td>...</td>\n",
              "      <td>...</td>\n",
              "      <td>...</td>\n",
              "      <td>...</td>\n",
              "    </tr>\n",
              "    <tr>\n",
              "      <th>4995</th>\n",
              "      <td>4995</td>\n",
              "      <td>6361</td>\n",
              "      <td>SULDESTE</td>\n",
              "      <td>FEMININO</td>\n",
              "      <td>CRÉDITO</td>\n",
              "      <td>3835.72</td>\n",
              "      <td>1</td>\n",
              "    </tr>\n",
              "    <tr>\n",
              "      <th>4996</th>\n",
              "      <td>4996</td>\n",
              "      <td>4844</td>\n",
              "      <td>SULDESTE</td>\n",
              "      <td>MASCULINO</td>\n",
              "      <td>CRÉDITO</td>\n",
              "      <td>3760.53</td>\n",
              "      <td>2</td>\n",
              "    </tr>\n",
              "    <tr>\n",
              "      <th>4997</th>\n",
              "      <td>4997</td>\n",
              "      <td>3548</td>\n",
              "      <td>SULDESTE</td>\n",
              "      <td>FEMININO</td>\n",
              "      <td>DÉBITO</td>\n",
              "      <td>7868.17</td>\n",
              "      <td>1</td>\n",
              "    </tr>\n",
              "    <tr>\n",
              "      <th>4998</th>\n",
              "      <td>4998</td>\n",
              "      <td>2138</td>\n",
              "      <td>SULDESTE</td>\n",
              "      <td>MASCULINO</td>\n",
              "      <td>CRÉDITO</td>\n",
              "      <td>9317.38</td>\n",
              "      <td>2</td>\n",
              "    </tr>\n",
              "    <tr>\n",
              "      <th>4999</th>\n",
              "      <td>4999</td>\n",
              "      <td>3508</td>\n",
              "      <td>SULDESTE</td>\n",
              "      <td>MASCULINO</td>\n",
              "      <td>CRÉDITO</td>\n",
              "      <td>3004.51</td>\n",
              "      <td>2</td>\n",
              "    </tr>\n",
              "  </tbody>\n",
              "</table>\n",
              "<p>5000 rows × 7 columns</p>\n",
              "</div>\n",
              "      <button class=\"colab-df-convert\" onclick=\"convertToInteractive('df-3cc4457c-5227-431d-8b91-b2fae2d6e8cf')\"\n",
              "              title=\"Convert this dataframe to an interactive table.\"\n",
              "              style=\"display:none;\">\n",
              "        \n",
              "  <svg xmlns=\"http://www.w3.org/2000/svg\" height=\"24px\"viewBox=\"0 0 24 24\"\n",
              "       width=\"24px\">\n",
              "    <path d=\"M0 0h24v24H0V0z\" fill=\"none\"/>\n",
              "    <path d=\"M18.56 5.44l.94 2.06.94-2.06 2.06-.94-2.06-.94-.94-2.06-.94 2.06-2.06.94zm-11 1L8.5 8.5l.94-2.06 2.06-.94-2.06-.94L8.5 2.5l-.94 2.06-2.06.94zm10 10l.94 2.06.94-2.06 2.06-.94-2.06-.94-.94-2.06-.94 2.06-2.06.94z\"/><path d=\"M17.41 7.96l-1.37-1.37c-.4-.4-.92-.59-1.43-.59-.52 0-1.04.2-1.43.59L10.3 9.45l-7.72 7.72c-.78.78-.78 2.05 0 2.83L4 21.41c.39.39.9.59 1.41.59.51 0 1.02-.2 1.41-.59l7.78-7.78 2.81-2.81c.8-.78.8-2.07 0-2.86zM5.41 20L4 18.59l7.72-7.72 1.47 1.35L5.41 20z\"/>\n",
              "  </svg>\n",
              "      </button>\n",
              "      \n",
              "  <style>\n",
              "    .colab-df-container {\n",
              "      display:flex;\n",
              "      flex-wrap:wrap;\n",
              "      gap: 12px;\n",
              "    }\n",
              "\n",
              "    .colab-df-convert {\n",
              "      background-color: #E8F0FE;\n",
              "      border: none;\n",
              "      border-radius: 50%;\n",
              "      cursor: pointer;\n",
              "      display: none;\n",
              "      fill: #1967D2;\n",
              "      height: 32px;\n",
              "      padding: 0 0 0 0;\n",
              "      width: 32px;\n",
              "    }\n",
              "\n",
              "    .colab-df-convert:hover {\n",
              "      background-color: #E2EBFA;\n",
              "      box-shadow: 0px 1px 2px rgba(60, 64, 67, 0.3), 0px 1px 3px 1px rgba(60, 64, 67, 0.15);\n",
              "      fill: #174EA6;\n",
              "    }\n",
              "\n",
              "    [theme=dark] .colab-df-convert {\n",
              "      background-color: #3B4455;\n",
              "      fill: #D2E3FC;\n",
              "    }\n",
              "\n",
              "    [theme=dark] .colab-df-convert:hover {\n",
              "      background-color: #434B5C;\n",
              "      box-shadow: 0px 1px 3px 1px rgba(0, 0, 0, 0.15);\n",
              "      filter: drop-shadow(0px 1px 2px rgba(0, 0, 0, 0.3));\n",
              "      fill: #FFFFFF;\n",
              "    }\n",
              "  </style>\n",
              "\n",
              "      <script>\n",
              "        const buttonEl =\n",
              "          document.querySelector('#df-3cc4457c-5227-431d-8b91-b2fae2d6e8cf button.colab-df-convert');\n",
              "        buttonEl.style.display =\n",
              "          google.colab.kernel.accessAllowed ? 'block' : 'none';\n",
              "\n",
              "        async function convertToInteractive(key) {\n",
              "          const element = document.querySelector('#df-3cc4457c-5227-431d-8b91-b2fae2d6e8cf');\n",
              "          const dataTable =\n",
              "            await google.colab.kernel.invokeFunction('convertToInteractive',\n",
              "                                                     [key], {});\n",
              "          if (!dataTable) return;\n",
              "\n",
              "          const docLinkHtml = 'Like what you see? Visit the ' +\n",
              "            '<a target=\"_blank\" href=https://colab.research.google.com/notebooks/data_table.ipynb>data table notebook</a>'\n",
              "            + ' to learn more about interactive tables.';\n",
              "          element.innerHTML = '';\n",
              "          dataTable['output_type'] = 'display_data';\n",
              "          await google.colab.output.renderOutput(dataTable, element);\n",
              "          const docLink = document.createElement('div');\n",
              "          docLink.innerHTML = docLinkHtml;\n",
              "          element.appendChild(docLink);\n",
              "        }\n",
              "      </script>\n",
              "    </div>\n",
              "  </div>\n",
              "  "
            ]
          },
          "metadata": {},
          "execution_count": 54
        }
      ]
    },
    {
      "cell_type": "markdown",
      "source": [
        "# **A partir do Dataset: table.csv, conforme as colunas do enunciado:**"
      ],
      "metadata": {
        "id": "A9VKeODmSIyr"
      }
    },
    {
      "cell_type": "markdown",
      "source": [
        "Resposta as seguintes questões:"
      ],
      "metadata": {
        "id": "LOC_Qm4ySbAr"
      }
    },
    {
      "cell_type": "markdown",
      "metadata": {
        "id": "SVyl98N0pEUe"
      },
      "source": [
        "# **QUESTÃO a):**"
      ]
    },
    {
      "cell_type": "markdown",
      "metadata": {
        "id": "1eej12wOpITF"
      },
      "source": [
        "Faça a análise de Perfil de cliente por agregação: SEXO x PAGAMENTO x TOTAL e seu Box Plot."
      ]
    },
    {
      "cell_type": "code",
      "metadata": {
        "id": "XR44XPqHpPAE",
        "colab": {
          "base_uri": "https://localhost:8080/",
          "height": 596
        },
        "outputId": "765d1b20-44ae-447b-ec2f-836f3a97542b"
      },
      "source": [
        "from pandas.io.pytables import Table\n",
        "grouped_df = table.groupby(['SEXO', 'PAGAMENTO']).sum().reset_index()\n",
        "pivot_df = grouped_df.pivot(index='SEXO', columns='PAGAMENTO', values='TOTAL (R$)')\n",
        "pivot_df.plot(kind='bar')\n",
        "plt.title('SEXO x PAGAMENTO x TOTAL')\n",
        "plt.xlabel('Pagamento + Sexo')\n",
        "plt.ylabel('Salario')\n",
        "plt.show()"
      ],
      "execution_count": null,
      "outputs": [
        {
          "output_type": "stream",
          "name": "stderr",
          "text": [
            "<ipython-input-47-ce752b7edf9c>:2: FutureWarning: The default value of numeric_only in DataFrameGroupBy.sum is deprecated. In a future version, numeric_only will default to False. Either specify numeric_only or select only columns which should be valid for the function.\n",
            "  grouped_df = table.groupby(['SEXO', 'PAGAMENTO']).sum().reset_index()\n"
          ]
        },
        {
          "output_type": "display_data",
          "data": {
            "text/plain": [
              "<Figure size 640x480 with 1 Axes>"
            ],
            "image/png": "[encoded data removed]"
          },
          "metadata": {}
        }
      ]
    },
    {
      "cell_type": "code",
      "source": [
        "df = table\n",
        "\n",
        "# Mapping categorical values to numerical values\n",
        "category_mapping = {'FEMININO': 1, 'MASCULINO': 2}\n",
        "df['Category_Num'] = df['SEXO'].map(category_mapping)\n",
        "\n",
        "# Creating the box plot\n",
        "plt.boxplot(x=df['TOTAL (R$)'], by=df['Category_Num'], vert=False)\n",
        "\n",
        "# Setting labels and title\n",
        "plt.xlabel('Value')\n",
        "plt.ylabel('Category')\n",
        "plt.title('Box Plot')\n",
        "\n",
        "# Display the plot\n",
        "plt.show()"
      ],
      "metadata": {
        "colab": {
          "base_uri": "https://localhost:8080/",
          "height": 235
        },
        "id": "qfsrquPr9KzT",
        "outputId": "05fbe250-d1aa-4b77-f840-d7b323f1fad1"
      },
      "execution_count": null,
      "outputs": [
        {
          "output_type": "error",
          "ename": "TypeError",
          "evalue": "ignored",
          "traceback": [
            "\u001b[0;31m---------------------------------------------------------------------------\u001b[0m",
            "\u001b[0;31mTypeError\u001b[0m                                 Traceback (most recent call last)",
            "\u001b[0;32m<ipython-input-52-7ccaa63eec33>\u001b[0m in \u001b[0;36m<cell line: 8>\u001b[0;34m()\u001b[0m\n\u001b[1;32m      6\u001b[0m \u001b[0;34m\u001b[0m\u001b[0m\n\u001b[1;32m      7\u001b[0m \u001b[0;31m# Creating the box plot\u001b[0m\u001b[0;34m\u001b[0m\u001b[0;34m\u001b[0m\u001b[0m\n\u001b[0;32m----> 8\u001b[0;31m \u001b[0mplt\u001b[0m\u001b[0;34m.\u001b[0m\u001b[0mboxplot\u001b[0m\u001b[0;34m(\u001b[0m\u001b[0mx\u001b[0m\u001b[0;34m=\u001b[0m\u001b[0mdf\u001b[0m\u001b[0;34m[\u001b[0m\u001b[0;34m'TOTAL (R$)'\u001b[0m\u001b[0;34m]\u001b[0m\u001b[0;34m,\u001b[0m \u001b[0mby\u001b[0m\u001b[0;34m=\u001b[0m\u001b[0mdf\u001b[0m\u001b[0;34m[\u001b[0m\u001b[0;34m'Category_Num'\u001b[0m\u001b[0;34m]\u001b[0m\u001b[0;34m,\u001b[0m \u001b[0mvert\u001b[0m\u001b[0;34m=\u001b[0m\u001b[0;32mFalse\u001b[0m\u001b[0;34m)\u001b[0m\u001b[0;34m\u001b[0m\u001b[0;34m\u001b[0m\u001b[0m\n\u001b[0m\u001b[1;32m      9\u001b[0m \u001b[0;34m\u001b[0m\u001b[0m\n\u001b[1;32m     10\u001b[0m \u001b[0;31m# Setting labels and title\u001b[0m\u001b[0;34m\u001b[0m\u001b[0;34m\u001b[0m\u001b[0m\n",
            "\u001b[0;31mTypeError\u001b[0m: boxplot() got an unexpected keyword argument 'by'"
          ]
        }
      ]
    },
    {
      "cell_type": "markdown",
      "source": [
        "# **QUESTÃO b):**"
      ],
      "metadata": {
        "id": "8Dgym3B1S2tm"
      }
    },
    {
      "cell_type": "markdown",
      "source": [
        "Faça a análise de Perfil de cliente por agregação: REGIÃO x PAGAMENTO x TOTAL e seu Box Plot."
      ],
      "metadata": {
        "id": "sjgbu7gZTCl7"
      }
    },
    {
      "cell_type": "code",
      "source": [],
      "metadata": {
        "id": "JnMFk6eyS26v"
      },
      "execution_count": null,
      "outputs": []
    },
    {
      "cell_type": "markdown",
      "source": [
        "# **QUESTÃO c):**"
      ],
      "metadata": {
        "id": "mpjSIAPqS5Nr"
      }
    },
    {
      "cell_type": "markdown",
      "source": [
        "Faça a análise estatística, com o info e o describe, sobre os dados dos clientes."
      ],
      "metadata": {
        "id": "a_kaNQxyTEPg"
      }
    },
    {
      "cell_type": "code",
      "source": [],
      "metadata": {
        "id": "8dTRL_YmS6pu"
      },
      "execution_count": null,
      "outputs": []
    },
    {
      "cell_type": "markdown",
      "source": [
        "# **QUESTÃO d):**"
      ],
      "metadata": {
        "id": "rkcv1XoNS7L8"
      }
    },
    {
      "cell_type": "markdown",
      "source": [
        "Enumere 3 características inferidas encontradas a partir dos resultados estatísticos obtidos nos itens a), b) e c):\n",
        "\n",
        "1.   Característica 1:\n",
        "2.   Característica 2:\n",
        "3.   Característica 3:"
      ],
      "metadata": {
        "id": "QT_U4R0bTIRK"
      }
    },
    {
      "cell_type": "markdown",
      "source": [
        "# **OBSERVAÇÃO IMPORTANTE:**\n",
        "\n",
        "**PARA ENTREGAR A ATIVIDADE:**\n",
        "\n",
        "OBRIGATÓRIO: Faça a impressão do seu **Notebook Colab (.ipynb) no formato PDF (Acrobat): .PDF** e faça o upload no AVA: AOP2.pdf."
      ],
      "metadata": {
        "id": "lCaUoDpOzLmF"
      }
    },
    {
      "cell_type": "markdown",
      "source": [
        "#CONVERTER IPYNB para PDF"
      ],
      "metadata": {
        "id": "ITA9ZUhr8rxg"
      }
    },
    {
      "cell_type": "markdown",
      "source": [
        "PASSO A PASSO:\n",
        "\n",
        "1.   Fazer o download do seu IPYNB.\n",
        "2.   Fazer o upload do seu IPYNB para área temporária: content.\n",
        "3.   Rodar o código abaixo com seu NOME_DO_COLAB.ipynb: Gerar um HTML.\n",
        "4.   Fazer o download do seu HTML e abrir em um Browser qualquer.\n",
        "3.   Imprimir a página HTML em PDF. Pronto (UFA)::: 😅!"
      ],
      "metadata": {
        "id": "QpxI8bpW8syr"
      }
    },
    {
      "cell_type": "code",
      "source": [
        "%%shell\n",
        "jupyter nbconvert --to html /content/NOME_DO_COLAB.ipynb"
      ],
      "metadata": {
        "id": "LnRaq5n78_0z"
      },
      "execution_count": null,
      "outputs": []
    },
    {
      "cell_type": "markdown",
      "source": [
        "**NÃO ENVIAR O ARQUIVO COLAB: .IPYNB**"
      ],
      "metadata": {
        "id": "Erbv98qXzkKv"
      }
    },
    {
      "cell_type": "markdown",
      "source": [
        "**FAÇA AQUI UM LINK PARA O PROFESSOR** (COMPARTILHADO COM TODOS): [Link para o professor!]()"
      ],
      "metadata": {
        "id": "7tL2fZ2fzmXF"
      }
    }
  ]
}